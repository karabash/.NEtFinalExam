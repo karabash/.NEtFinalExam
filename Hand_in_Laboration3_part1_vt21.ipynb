{
  "nbformat": 4,
  "nbformat_minor": 0,
  "metadata": {
    "colab": {
      "name": "Hand_in_Laboration3_part1_vt21.ipynb",
      "provenance": [],
      "collapsed_sections": [],
      "include_colab_link": true
    },
    "kernelspec": {
      "display_name": "Python 3",
      "language": "python",
      "name": "python3"
    },
    "language_info": {
      "codemirror_mode": {
        "name": "ipython",
        "version": 3
      },
      "file_extension": ".py",
      "mimetype": "text/x-python",
      "name": "python",
      "nbconvert_exporter": "python",
      "pygments_lexer": "ipython3",
      "version": "3.7.4"
    }
  },
  "cells": [
    {
      "cell_type": "markdown",
      "metadata": {
        "id": "view-in-github",
        "colab_type": "text"
      },
      "source": [
        "<a href=\"https://colab.research.google.com/github/karabash/.NEtFinalExam/blob/master/Hand_in_Laboration3_part1_vt21.ipynb\" target=\"_parent\"><img src=\"https://colab.research.google.com/assets/colab-badge.svg\" alt=\"Open In Colab\"/></a>"
      ]
    },
    {
      "cell_type": "markdown",
      "metadata": {
        "id": "wbtZXTuGS0pH"
      },
      "source": [
        "# Laboration 3 part 1 Regression\n",
        "\n",
        "In this part of laboratory 3 you will perform some different types of regression analysis on a dataset with weather data. Feel free to watch the lecture videos for lecture 6 that goes through regression (part 2 and 4 are most important). \n",
        "\n",
        "In the laboratory, only questions that have a **Q** in front should be answered *italicized text* (You may have to do some coding to be able to answer the question in some cases while in others there is only theoretical questions.). \n",
        "\n",
        "\n",
        "Tasks that are not questions but only coding are marked with **C**, these are also mandatory.\n",
        "\n",
        "Example:\n",
        "\n",
        "**Q** How many men and women have answered the survey? (Here it is preferable to do some coding to easily find the answer.)\n",
        "\n",
        "**C** Encode a function that calculates the 20 most common words in your data set.\n",
        "\n",
        "*When we correct the laboration we will not look specifically on how you did your coding to answer questions, but look at whether the answer is correct or not when it comes to questions marked with **Q** .*\n",
        "\n",
        "**This part of the laboration will be corrected by Soraya (and Elin) and therefore you need to write your answers in English!**\n",
        "\n",
        "**You are expected to add code blocks or text (markdown) blocks when needed. Make sure to use enough cells to make you code easy to read i.e. try to only make one thing in each cell.**"
      ]
    },
    {
      "cell_type": "markdown",
      "metadata": {
        "id": "q4ov7ggdCUXq"
      },
      "source": [
        "An initial import of a few of the required libraries is already coded, below. When you need other libraries you can add them in this cell or in the cell where you need them further in the lab. "
      ]
    },
    {
      "cell_type": "code",
      "metadata": {
        "id": "GrIbIFt8S0pM"
      },
      "source": [
        "# Import Pandas Library, used for data manipulation\n",
        "# Import matplotlib, used to plot our data\n",
        "# Import nump for mathemtical operations\n",
        "import pandas as pd\n",
        "import matplotlib.pyplot as plt\n",
        "import numpy as np\n",
        "import seaborn as sns\n",
        "\n",
        "\n"
      ],
      "execution_count": 2,
      "outputs": []
    },
    {
      "cell_type": "code",
      "metadata": {
        "colab": {
          "base_uri": "https://localhost:8080/"
        },
        "id": "ep71MwstD0hk",
        "outputId": "1ba1a281-3a37-4cb4-8340-a6ca777e9a5c"
      },
      "source": [
        "from google.colab import drive\n",
        "try:\n",
        "    from google.colab import drive\n",
        "    drive.mount(\"/content/drive/\", force_remount=True)\n",
        "    google_drive_prefix = \"/content/drive/My Drive\"\n",
        "    data_prefix = \"{}/mnist/\".format(google_drive_prefix)\n",
        "except ModuleNotFoundError: \n",
        "    data_prefix = \"data/\"\n",
        "drive.mount('/content/drive')"
      ],
      "execution_count": 3,
      "outputs": [
        {
          "output_type": "stream",
          "text": [
            "Mounted at /content/drive/\n",
            "Drive already mounted at /content/drive; to attempt to forcibly remount, call drive.mount(\"/content/drive\", force_remount=True).\n"
          ],
          "name": "stdout"
        }
      ]
    },
    {
      "cell_type": "code",
      "metadata": {
        "colab": {
          "base_uri": "https://localhost:8080/"
        },
        "id": "xV5y1qxFDw5c",
        "outputId": "e3fb4ba4-0336-4633-9931-0624c6afa976"
      },
      "source": [
        "import os\r\n",
        "os.chdir('/content/drive/MyDrive/lab3')\r\n",
        "!pwd"
      ],
      "execution_count": 4,
      "outputs": [
        {
          "output_type": "stream",
          "text": [
            "/content/drive/MyDrive/lab3\n"
          ],
          "name": "stdout"
        }
      ]
    },
    {
      "cell_type": "markdown",
      "metadata": {
        "id": "ssaLXiXHS0pN"
      },
      "source": [
        "## Data\n",
        "\n",
        "Start by: \n",
        "**C Importing our dataset and store it in a suitable format with the name `weather_data`.**"
      ]
    },
    {
      "cell_type": "code",
      "metadata": {
        "id": "_c0XOWUVS0pN",
        "colab": {
          "base_uri": "https://localhost:8080/",
          "height": 254
        },
        "outputId": "241f71ba-6b4f-4b5e-d7f4-44a0912758e7"
      },
      "source": [
        "# Import our WeatherData and store it in the variable weather_data \n",
        "weather_data = pd.read_csv('WeatherData_lab3.csv',delimiter=';')\n",
        "\n",
        "\n",
        "# Display the data in the notebook\n",
        "weather_data[\"RainToday\"].replace({\"No\": 0, \"Yes\": 1}, inplace=True)\n",
        "weather_data.head(7)\n"
      ],
      "execution_count": 29,
      "outputs": [
        {
          "output_type": "execute_result",
          "data": {
            "text/html": [
              "<div>\n",
              "<style scoped>\n",
              "    .dataframe tbody tr th:only-of-type {\n",
              "        vertical-align: middle;\n",
              "    }\n",
              "\n",
              "    .dataframe tbody tr th {\n",
              "        vertical-align: top;\n",
              "    }\n",
              "\n",
              "    .dataframe thead th {\n",
              "        text-align: right;\n",
              "    }\n",
              "</style>\n",
              "<table border=\"1\" class=\"dataframe\">\n",
              "  <thead>\n",
              "    <tr style=\"text-align: right;\">\n",
              "      <th></th>\n",
              "      <th>Temperature (C)</th>\n",
              "      <th>Wind Speed (km/h)</th>\n",
              "      <th>Pressure (millibars)</th>\n",
              "      <th>Humidity</th>\n",
              "      <th>Sunshine</th>\n",
              "      <th>Cloud</th>\n",
              "      <th>RainToday</th>\n",
              "      <th>Visibility (km)</th>\n",
              "    </tr>\n",
              "  </thead>\n",
              "  <tbody>\n",
              "    <tr>\n",
              "      <th>0</th>\n",
              "      <td>9.472222</td>\n",
              "      <td>14.1197</td>\n",
              "      <td>1015.13</td>\n",
              "      <td>0.89</td>\n",
              "      <td>NaN</td>\n",
              "      <td>8.0</td>\n",
              "      <td>0.0</td>\n",
              "      <td>15.8263</td>\n",
              "    </tr>\n",
              "    <tr>\n",
              "      <th>1</th>\n",
              "      <td>9.355556</td>\n",
              "      <td>14.2646</td>\n",
              "      <td>1015.63</td>\n",
              "      <td>0.86</td>\n",
              "      <td>NaN</td>\n",
              "      <td>NaN</td>\n",
              "      <td>0.0</td>\n",
              "      <td>15.8263</td>\n",
              "    </tr>\n",
              "    <tr>\n",
              "      <th>2</th>\n",
              "      <td>9.377778</td>\n",
              "      <td>3.9284</td>\n",
              "      <td>1015.94</td>\n",
              "      <td>0.89</td>\n",
              "      <td>NaN</td>\n",
              "      <td>NaN</td>\n",
              "      <td>0.0</td>\n",
              "      <td>14.9569</td>\n",
              "    </tr>\n",
              "    <tr>\n",
              "      <th>3</th>\n",
              "      <td>8.288889</td>\n",
              "      <td>14.1036</td>\n",
              "      <td>1016.41</td>\n",
              "      <td>0.83</td>\n",
              "      <td>NaN</td>\n",
              "      <td>NaN</td>\n",
              "      <td>0.0</td>\n",
              "      <td>15.8263</td>\n",
              "    </tr>\n",
              "    <tr>\n",
              "      <th>4</th>\n",
              "      <td>8.755556</td>\n",
              "      <td>11.0446</td>\n",
              "      <td>1016.51</td>\n",
              "      <td>0.83</td>\n",
              "      <td>NaN</td>\n",
              "      <td>7.0</td>\n",
              "      <td>0.0</td>\n",
              "      <td>15.8263</td>\n",
              "    </tr>\n",
              "    <tr>\n",
              "      <th>5</th>\n",
              "      <td>9.222222</td>\n",
              "      <td>13.9587</td>\n",
              "      <td>1016.66</td>\n",
              "      <td>0.85</td>\n",
              "      <td>NaN</td>\n",
              "      <td>NaN</td>\n",
              "      <td>0.0</td>\n",
              "      <td>14.9569</td>\n",
              "    </tr>\n",
              "    <tr>\n",
              "      <th>6</th>\n",
              "      <td>7.733333</td>\n",
              "      <td>12.3648</td>\n",
              "      <td>1016.72</td>\n",
              "      <td>0.95</td>\n",
              "      <td>NaN</td>\n",
              "      <td>1.0</td>\n",
              "      <td>0.0</td>\n",
              "      <td>9.9820</td>\n",
              "    </tr>\n",
              "  </tbody>\n",
              "</table>\n",
              "</div>"
            ],
            "text/plain": [
              "   Temperature (C)  Wind Speed (km/h)  ...  RainToday  Visibility (km)\n",
              "0         9.472222            14.1197  ...        0.0          15.8263\n",
              "1         9.355556            14.2646  ...        0.0          15.8263\n",
              "2         9.377778             3.9284  ...        0.0          14.9569\n",
              "3         8.288889            14.1036  ...        0.0          15.8263\n",
              "4         8.755556            11.0446  ...        0.0          15.8263\n",
              "5         9.222222            13.9587  ...        0.0          14.9569\n",
              "6         7.733333            12.3648  ...        0.0           9.9820\n",
              "\n",
              "[7 rows x 8 columns]"
            ]
          },
          "metadata": {
            "tags": []
          },
          "execution_count": 29
        }
      ]
    },
    {
      "cell_type": "markdown",
      "metadata": {
        "id": "auah71Bjln2b"
      },
      "source": [
        "**Q1 What type of data is in the dataset? (HINT! dtype and type of variable: categorial/continous)**\r\n",
        "  "
      ]
    },
    {
      "cell_type": "code",
      "metadata": {
        "colab": {
          "base_uri": "https://localhost:8080/"
        },
        "id": "yjax9DPx5sRT",
        "outputId": "a1db570d-22ca-4a0a-b012-ce4f3f811fe4"
      },
      "source": [
        "levels = len(pd.value_counts(weather_data['Humidity']))\r\n",
        "print(\"There are {} categories in the Description column\".format(levels))"
      ],
      "execution_count": 30,
      "outputs": [
        {
          "output_type": "stream",
          "text": [
            "There are 34 categories in the Description column\n"
          ],
          "name": "stdout"
        }
      ]
    },
    {
      "cell_type": "markdown",
      "metadata": {
        "id": "RsWQ7k3gl3_P"
      },
      "source": [
        "Continuous Data - Interval Data\r\n",
        "Continuous Data represents measurements and therefore their values can’t be counted but they can be measured. Interval values represent ordered units that have the same difference.\r\n"
      ]
    },
    {
      "cell_type": "markdown",
      "metadata": {
        "id": "Qp_JbkYslnqs"
      },
      "source": [
        "**Q2 How many rows and columns, number of datapoints?**\r\n",
        "\r\n",
        "\r\n"
      ]
    },
    {
      "cell_type": "markdown",
      "metadata": {
        "id": "70Pd8m7Co-N3"
      },
      "source": [
        "total_rows: 50 and total_cols: 8 or weather_data.info() method gives also, how many rows abd columns contains the weather_data."
      ]
    },
    {
      "cell_type": "code",
      "metadata": {
        "colab": {
          "base_uri": "https://localhost:8080/",
          "height": 35
        },
        "id": "9RZhIxIIoizk",
        "outputId": "2b0283a1-8bfc-46d8-e687-0c8088e2527b"
      },
      "source": [
        "total_rows=len(weather_data.axes[0])\r\n",
        "total_cols=len(weather_data.axes[1])\r\n",
        "display(\"total_rows: \" + str(total_rows)+ \" and total_cols: \" +str(total_cols))"
      ],
      "execution_count": 31,
      "outputs": [
        {
          "output_type": "display_data",
          "data": {
            "application/vnd.google.colaboratory.intrinsic+json": {
              "type": "string"
            },
            "text/plain": [
              "'total_rows: 50 and total_cols: 8'"
            ]
          },
          "metadata": {
            "tags": []
          }
        }
      ]
    },
    {
      "cell_type": "markdown",
      "metadata": {
        "id": "gyQEJ0tfHJJ7"
      },
      "source": [
        "**Q3 How do you interpret the different columns, write a short sentence that describes each column.**\r\n",
        "\r\n"
      ]
    },
    {
      "cell_type": "markdown",
      "metadata": {
        "id": "a9C5Zqsrl6BF"
      },
      "source": [
        "1 Temperature (C)  ->  contains float data values and represents of temperaturese as  centigrade    50 non-null     float64\r\n",
        "\r\n",
        "2   Wind Speed (km/h)     contains float data values  and represents of speed as km\r\n",
        "\r\n",
        "3   Pressure (millibars)   contains float data values  and represents of millibars\r\n",
        " \r\n",
        "4   Humidity         contains float data values  and represents of humidity\r\n",
        "\r\n",
        "5   Sunshine  contains float data values type and represents of sunshine\r\n",
        "\r\n",
        "\r\n",
        "6   Cloud         contains float data values type and represents of cloud \r\n",
        "\r\n",
        "7   RainToday      contains float data values type and represents of rain today ( true or false 1.0 - 0.0)\r\n",
        "\r\n",
        "8   Visibility (km)   contains float data values type and represents of visibility (a.k.a distance)"
      ]
    },
    {
      "cell_type": "markdown",
      "metadata": {
        "id": "_szQk0aQmMIH"
      },
      "source": [
        "**C1 Rename columns that have unsuitable names for the columns or if the columns have names that are difficult to interpret. (IF everything looks good, you don't need to do anything here)**"
      ]
    },
    {
      "cell_type": "code",
      "metadata": {
        "colab": {
          "base_uri": "https://localhost:8080/",
          "height": 136
        },
        "id": "A86sWd126eyE",
        "outputId": "1d03f65e-3012-4d74-948c-fde7abf54c6c"
      },
      "source": [
        "weather_data = weather_data.set_axis(['temp_as_centigrade', 'wind_speed_as_kmh', 'press_milibars', 'humidity', 'sunshine', 'cloud', 'rain', 'visibility_km'], axis=1, inplace=False)\r\n",
        "\r\n",
        "weather_data\r\n",
        "weather_data.head(3)"
      ],
      "execution_count": 39,
      "outputs": [
        {
          "output_type": "execute_result",
          "data": {
            "text/html": [
              "<div>\n",
              "<style scoped>\n",
              "    .dataframe tbody tr th:only-of-type {\n",
              "        vertical-align: middle;\n",
              "    }\n",
              "\n",
              "    .dataframe tbody tr th {\n",
              "        vertical-align: top;\n",
              "    }\n",
              "\n",
              "    .dataframe thead th {\n",
              "        text-align: right;\n",
              "    }\n",
              "</style>\n",
              "<table border=\"1\" class=\"dataframe\">\n",
              "  <thead>\n",
              "    <tr style=\"text-align: right;\">\n",
              "      <th></th>\n",
              "      <th>temp_as_centigrade</th>\n",
              "      <th>wind_speed_as_kmh</th>\n",
              "      <th>press_milibars</th>\n",
              "      <th>humidity</th>\n",
              "      <th>sunshine</th>\n",
              "      <th>cloud</th>\n",
              "      <th>rain</th>\n",
              "      <th>visibility_km</th>\n",
              "    </tr>\n",
              "  </thead>\n",
              "  <tbody>\n",
              "    <tr>\n",
              "      <th>0</th>\n",
              "      <td>9.472222</td>\n",
              "      <td>14.1197</td>\n",
              "      <td>1015.13</td>\n",
              "      <td>0.89</td>\n",
              "      <td>NaN</td>\n",
              "      <td>8.0</td>\n",
              "      <td>0.0</td>\n",
              "      <td>15.8263</td>\n",
              "    </tr>\n",
              "    <tr>\n",
              "      <th>1</th>\n",
              "      <td>9.355556</td>\n",
              "      <td>14.2646</td>\n",
              "      <td>1015.63</td>\n",
              "      <td>0.86</td>\n",
              "      <td>NaN</td>\n",
              "      <td>NaN</td>\n",
              "      <td>0.0</td>\n",
              "      <td>15.8263</td>\n",
              "    </tr>\n",
              "    <tr>\n",
              "      <th>2</th>\n",
              "      <td>9.377778</td>\n",
              "      <td>3.9284</td>\n",
              "      <td>1015.94</td>\n",
              "      <td>0.89</td>\n",
              "      <td>NaN</td>\n",
              "      <td>NaN</td>\n",
              "      <td>0.0</td>\n",
              "      <td>14.9569</td>\n",
              "    </tr>\n",
              "  </tbody>\n",
              "</table>\n",
              "</div>"
            ],
            "text/plain": [
              "   temp_as_centigrade  wind_speed_as_kmh  ...  rain  visibility_km\n",
              "0            9.472222            14.1197  ...   0.0        15.8263\n",
              "1            9.355556            14.2646  ...   0.0        15.8263\n",
              "2            9.377778             3.9284  ...   0.0        14.9569\n",
              "\n",
              "[3 rows x 8 columns]"
            ]
          },
          "metadata": {
            "tags": []
          },
          "execution_count": 39
        }
      ]
    },
    {
      "cell_type": "markdown",
      "metadata": {
        "id": "8trS6kvXtWfg"
      },
      "source": [
        "**C2 Code suitable visualisations that show the relationship between the different variables in the dataset (in two dimensions). Include labels on x and y axis and display a legend for the visualisation(s). You can choose if you want to visualise each relationship in its own plot or if you want to plot all relationships in one visualisation, if you choose the latter, you need to make it possible to distinguish between the different variables.**"
      ]
    },
    {
      "cell_type": "code",
      "metadata": {
        "id": "JZn46iduJdag",
        "colab": {
          "base_uri": "https://localhost:8080/",
          "height": 282
        },
        "outputId": "cdd52984-4a6d-498d-d65d-ba1600d11396"
      },
      "source": [
        "#               x1                      x2                      x3            \r\n",
        "weather_df1 = ['temp_as_centigrade','wind_speed_as_kmh', 'press_milibars' ]\r\n",
        "X_final = weather_data[weather_df1]\r\n",
        "Y_final = weather_data.humidity\r\n",
        "#y against x1, x2 or x3\r\n",
        "\r\n",
        "plt.subplot(2,2,1)\r\n",
        "#strong linear - humanity agains temp_as_centigrade\r\n",
        "plt.scatter(X_final['temp_as_centigrade'],Y_final)\r\n",
        "plt.subplot(2,2,2)\r\n",
        "\r\n",
        "#linear - humanity agains wind_speed_as_kmh\r\n",
        "plt.scatter(X_final['wind_speed_as_kmh'],Y_final)\r\n",
        "plt.subplot(2,2,3)\r\n",
        "\r\n",
        "#no relationship between humanity agains press_milibars\r\n",
        "plt.scatter(X_final['press_milibars'],Y_final)\r\n",
        "\r\n"
      ],
      "execution_count": 47,
      "outputs": [
        {
          "output_type": "execute_result",
          "data": {
            "text/plain": [
              "<matplotlib.collections.PathCollection at 0x7fdfa8780c18>"
            ]
          },
          "metadata": {
            "tags": []
          },
          "execution_count": 47
        },
        {
          "output_type": "display_data",
          "data": {
            "image/png": "[encoded data removed]",
            "text/plain": [
              "<Figure size 432x288 with 3 Axes>"
            ]
          },
          "metadata": {
            "tags": [],
            "needs_background": "light"
          }
        }
      ]
    },
    {
      "cell_type": "markdown",
      "metadata": {
        "id": "15TBTRxSFHWz"
      },
      "source": [
        ""
      ]
    },
    {
      "cell_type": "markdown",
      "metadata": {
        "id": "buX04Ow2S0pQ"
      },
      "source": [
        "## Data cleaning and feature engineering\n",
        "\n",
        "> Indented block\n",
        "\n",
        "\n",
        "\n",
        "**Q** Are there any missing values? If yes, what is your interpretation of the reason(s) and what type of missing values? (HINT! MCAR;MAR;NMAR)\n",
        "\n",
        "**C** Handle any missing values in a suitable way (if there are none, you don't need to do anything here). Make sure you changes are saved in you dataframe.\n",
        "\n",
        "**Q** Are there any variables that need further cleaning/feature engineering such as changing dtype/calculations to improve categorial features etc? \n",
        "\n",
        "**Q** IS there a need fo standardization/normalization or scaling of variables? Why/why not? (Motivate for each of them)\n",
        "\n",
        "**C** If yes on any of the above, fix this column and make sure to make the changes on your existing dataframe.\n",
        "\n"
      ]
    },
    {
      "cell_type": "markdown",
      "metadata": {
        "id": "jw64S9VPS0pQ"
      },
      "source": [
        "## Linear Regression\n",
        "\n",
        "### Your first task in regards to modeling is to do a simple linear regression, using only two of the variables present in the dataset.\n",
        "\n",
        "To help you further the codeblock below show a heatmap of the correlation between the different varaibles. Also, another codeblock show a pairplot that visualize the relationsship between pairwise variables, it is coded using the seaborn library.\n",
        "\n"
      ]
    },
    {
      "cell_type": "code",
      "metadata": {
        "id": "WD1O1swFS0pQ"
      },
      "source": [
        "#seaborn heatmap\n",
        "corrMatrix = weather_data.corr()\n",
        "sns.heatmap(corrMatrix, annot=True)\n",
        "plt.show()"
      ],
      "execution_count": null,
      "outputs": []
    },
    {
      "cell_type": "code",
      "metadata": {
        "id": "zCaFuVm-S0pR",
        "colab": {
          "base_uri": "https://localhost:8080/",
          "height": 1000
        },
        "outputId": "5b153bfc-3f86-4350-88d6-d88fc380db83"
      },
      "source": [
        "#seaborn pairplot\n",
        "sns.pairplot(weather_data)"
      ],
      "execution_count": null,
      "outputs": [
        {
          "output_type": "execute_result",
          "data": {
            "text/plain": [
              "<seaborn.axisgrid.PairGrid at 0x7f62c975c128>"
            ]
          },
          "metadata": {
            "tags": []
          },
          "execution_count": 66
        },
        {
          "output_type": "display_data",
          "data": {
            "image/png": "[encoded data removed]",
            "text/plain": [
              "<Figure size 1440x1440 with 72 Axes>"
            ]
          },
          "metadata": {
            "tags": [],
            "needs_background": "light"
          }
        }
      ]
    },
    {
      "cell_type": "markdown",
      "metadata": {
        "id": "5-B8rV_oS0pR"
      },
      "source": [
        "**Q** Based on the heat map and your visualisations on relationships, which two variables (one for input (x) and another for output (y) would you consider most appropriate for doing a linear regression analysis? \n",
        "\n",
        "HINT! THe table below (from [this page](https://www.statology.org/what-is-a-strong-correlation/))helps you interpret the heatmap. **A must in a linear regression model is to have a linear relationship between the variables!**\n",
        "\n",
        "r in the table below is the Pearson correlation coefficient that pandas calculate for us (Note that it it the absolut value of r, the correclation coefficent can be both negative and positive). Also see [pandas documentation on correlation calculations](https://pandas.pydata.org/pandas-docs/stable/reference/api/pandas.DataFrame.corr.html).\n",
        "\n",
        "| Absolute value of r    | Strength of relationship|        \n",
        "|------------------------|-------------------------|\n",
        "| r < 0.25               |No relationship          |\n",
        "| 0.25 < r < 0.5         |Weak relationship        |\n",
        "| 0.5 < r < 0.75         |Moderate relationship    |\n",
        "| r > 0.75               |Strong relationship      |\n",
        "\n",
        "\n",
        "**Q** Which column should represent the independent variable, x, and the dependent variable, y (the one you want to predict). In order to get the best possible prediction of y? \n",
        "Motivate your answer\n",
        "\n",
        "**C** Investigate if there are any outliers in the two variables you have chosen, if so, handle them in a suitable way. \n",
        "\n",
        "**Q** Why did you choose to handle/not handle the outliers in the two variables?"
      ]
    },
    {
      "cell_type": "markdown",
      "metadata": {
        "id": "CkZ0opXiCUXw"
      },
      "source": [
        "### Modeling\n",
        "\n",
        "**C** Assign the correct values to x and y in the codeblock provided below. (NOTE! You should call values().reshape() on x because scikit_learn requires input to be in the form of two dimensional arrays i.e. a numpy array (created by pandas.values() in 2D ()created by numpy.reshape()). Or to be more precise, to have one column and as many rows as necessary. That’s exactly what the argument (-1, 1) of .reshape() specifies. See also [numpy documentation](https://numpy.org/doc/stable/reference/generated/numpy.reshape.html) and [scikit_learn documentation](https://scikit-learn.org/stable/modules/generated/sklearn.linear_model.LinearRegression.html?highlight=linear%20regression#sklearn.linear_model.LinearRegression)\n",
        "\n",
        "The code already visible below imports the correct scikit_learn model (LinearRegression) in order to perform the training. Further, code is provided that performs the splitting of data into training and test and also performs the training on the trainingdataset and prediction on both the test and training datasets. \n",
        "\n",
        "**Q** What does the last three lines in the codeblock below do?"
      ]
    },
    {
      "cell_type": "code",
      "metadata": {
        "colab": {
          "base_uri": "https://localhost:8080/",
          "height": 557
        },
        "id": "e6cWHx4PIrOI",
        "outputId": "435b6074-407d-4517-c829-269dce2fd964"
      },
      "source": [
        " \r\n",
        "import matplotlib.pyplot as plt\r\n",
        "import numpy as np\r\n",
        "\r\n",
        "y = -30*x+25  \r\n",
        "\r\n",
        "plt.plot(x, y, '-r', label='y=2x+1')\r\n",
        "plt.title('Graph of y=2x+1')\r\n",
        "plt.xlabel('x', color='#1C2833')\r\n",
        "plt.ylabel('y', color='#1C2833')\r\n",
        "plt.legend(loc='upper left')\r\n",
        "\r\n",
        "\r\n",
        "plt.grid()\r\n",
        "plt.show()\r\n",
        "\r\n",
        "def plotReg(x_values,y_values):\r\n",
        "    x = np.linspace(0.4,1,35)\r\n",
        "    x = x_values.to_numpy().reshape(-1, 1)\r\n",
        "    y = y_values\r\n",
        "    # Define the variable lr_model as our linear regression model\r\n",
        "\t\r\n",
        "    lr_model = LinearRegression()\r\n",
        "    # Fit our linear regression model to our data, we are essentially finding θ₀ and θ₁ in our regression line: ŷ = θ₀ + θ₁𝑥. Gradient descent and other methods are used for this.\r\n",
        "   \r\n",
        "    lr_model.fit(x, y)\r\n",
        "    # Find predicted values for all x values by applying ŷᵢ = θ₀ + θ₁𝑥ᵢ\r\n",
        "    y_pred = lr_model.predict(x)\r\n",
        "    plt.scatter(x, y)\r\n",
        "    plt.xlabel('tempC')\r\n",
        "    plt.ylabel('humidity')\r\n",
        "    # Here we are plotting our regression line ŷ = θ₀ + θ₁𝑥\r\n",
        "    plt.plot(x, y_pred)\r\n",
        "\r\n",
        "plotReg(wd_df['humidity'],wd_df['tempC'])\r\n"
      ],
      "execution_count": null,
      "outputs": [
        {
          "output_type": "display_data",
          "data": {
            "image/png": "[encoded data removed]",
            "text/plain": [
              "<Figure size 432x288 with 1 Axes>"
            ]
          },
          "metadata": {
            "tags": [],
            "needs_background": "light"
          }
        },
        {
          "output_type": "display_data",
          "data": {
            "image/png": "[encoded data removed]",
            "text/plain": [
              "<Figure size 432x288 with 1 Axes>"
            ]
          },
          "metadata": {
            "tags": [],
            "needs_background": "light"
          }
        }
      ]
    },
    {
      "cell_type": "code",
      "metadata": {
        "id": "KT5TlabjS0pR",
        "scrolled": true,
        "colab": {
          "base_uri": "https://localhost:8080/"
        },
        "outputId": "a0000b34-2526-4eae-abce-2f5a26c53961"
      },
      "source": [
        "from sklearn.linear_model import LinearRegression\n",
        "from sklearn.model_selection import train_test_split\n",
        "\n",
        "from sklearn.linear_model import LinearRegression\n",
        "from sklearn.model_selection import train_test_split\n",
        "\n",
        "#Insert the correct x and y \n",
        "'''x = wd_df['tempC'].values.reshape(-1, 1)'''\n",
        "\n",
        "x = wd_df['humidity'].values.reshape(-1, 1)\n",
        "y = wd_df['tempC']\n",
        "\n",
        "#Split into traning and testing\n",
        "x_train, x_test, y_train, y_test = train_test_split(x, y, test_size=0.2, random_state=42)\n",
        "\n",
        "#train\n",
        "lr_model = LinearRegression(fit_intercept=True)\n",
        "lr_model.fit(x_train, y_train)\n",
        "\n",
        "#Predict (here done on both test and traingset)\n",
        "y_pred_train =lr_model.predict(x_train)\n",
        "y_pred_test = lr_model.predict(x_test)\n",
        "\n",
        "\n",
        "theta_0 = lr_model.intercept_\n",
        "theta_1 = lr_model.coef_\n",
        "theta_0, theta_1 \n",
        "\n",
        "\n",
        "\n"
      ],
      "execution_count": null,
      "outputs": [
        {
          "output_type": "execute_result",
          "data": {
            "text/plain": [
              "(30.184750971519712, array([-25.21291573]))"
            ]
          },
          "metadata": {
            "tags": []
          },
          "execution_count": 63
        }
      ]
    },
    {
      "cell_type": "markdown",
      "metadata": {
        "id": "nKaGDqaYHKcd"
      },
      "source": [
        ""
      ]
    },
    {
      "cell_type": "markdown",
      "metadata": {
        "id": "1l5zJNTCS0pS"
      },
      "source": [
        "**C** Create a new dataframe with two columns, one with the actual values in the testset and one with the predicted values on the testset. \n",
        "\n",
        "**Q**What is your interpretation of the correctness of your model?"
      ]
    },
    {
      "cell_type": "code",
      "metadata": {
        "id": "QmIuMu6qS0pS",
        "colab": {
          "base_uri": "https://localhost:8080/",
          "height": 135
        },
        "outputId": "b3b1e25e-cc95-4caf-f639-23095262645c"
      },
      "source": [
        "df_compare = #your code here\n",
        "df_compare"
      ],
      "execution_count": null,
      "outputs": [
        {
          "output_type": "error",
          "ename": "SyntaxError",
          "evalue": "ignored",
          "traceback": [
            "\u001b[0;36m  File \u001b[0;32m\"<ipython-input-257-f63a40f5e5ee>\"\u001b[0;36m, line \u001b[0;32m1\u001b[0m\n\u001b[0;31m    df_compare = #your code here\u001b[0m\n\u001b[0m                                ^\u001b[0m\n\u001b[0;31mSyntaxError\u001b[0m\u001b[0;31m:\u001b[0m invalid syntax\n"
          ]
        }
      ]
    },
    {
      "cell_type": "markdown",
      "metadata": {
        "id": "0TNQ-MZiS0pS"
      },
      "source": [
        "**C** Code a visualization that show the result (the straight line created by fitting your model to your training data) in relation to the trainingset and another visualization that show the result in relation to the testset. Use one code cell for each coding."
      ]
    },
    {
      "cell_type": "code",
      "metadata": {
        "id": "OlELbiLKS0pT"
      },
      "source": [
        "#Code for visualising traningdata and trained model"
      ],
      "execution_count": null,
      "outputs": []
    },
    {
      "cell_type": "code",
      "metadata": {
        "id": "jyo90r_HS0pT"
      },
      "source": [
        "#Code for visualising testdata and trained model"
      ],
      "execution_count": null,
      "outputs": []
    },
    {
      "cell_type": "markdown",
      "metadata": {
        "id": "nhLJP29BS0pT"
      },
      "source": [
        "**Q** What do the two above visualisation show?\n",
        "\n",
        "**Q** Why do we still predic using the training data and not the test data when visualising the result on the testset?\n",
        "\n",
        "**Q** What is the preformance measures of your model? Calculate MSE, R^2 and MRSE on both test and trainingdata using skikit_learn and interpret the result.\n",
        "\n",
        "See scikit_learn library: [MSE/MRSE](https://scikit-learn.org/stable/modules/generated/sklearn.metrics.mean_squared_error.html), #Evaluate on trainingset[r2_score](https://scikit-learn.org/stable/modules/generated/sklearn.metrics.r2_score.html?highlight=r2#sklearn.metrics.r2_score)"
      ]
    },
    {
      "cell_type": "code",
      "metadata": {
        "id": "5w7vB10-CUXz"
      },
      "source": [
        "#Evaluate training"
      ],
      "execution_count": null,
      "outputs": []
    },
    {
      "cell_type": "code",
      "metadata": {
        "id": "uHo4-SOjCUX0"
      },
      "source": [
        "#Evaluate test"
      ],
      "execution_count": null,
      "outputs": []
    },
    {
      "cell_type": "markdown",
      "metadata": {
        "id": "a6GYpCUFCUX0"
      },
      "source": [
        "There is something strange about our r2_score, it is higher on the testset compared to the trainingset. This is against what we have learned, that models always perform better on trainingset compared to testset.\n",
        "\n",
        "**Q** Why might that be? \n",
        "\n",
        "**Q** What can we do to make it better?"
      ]
    },
    {
      "cell_type": "markdown",
      "metadata": {
        "id": "Bgt73hE9S0pT"
      },
      "source": [
        "In order to see how or model performs we can also build a distribution plot of the actual values and the predicted values, this is done in the code below. \n",
        "\n",
        "**Q** Interpret the curves, what does it tell about the performance of the model?"
      ]
    },
    {
      "cell_type": "code",
      "metadata": {
        "id": "S2NW_nJCS0pT"
      },
      "source": [
        "sns.distplot(y_pred_test, hist = False, color = 'r', label = 'Predicted Values')\n",
        "sns.distplot(y_test, hist = False, color = 'b', label = 'Actual Values')\n",
        "plt.title('Actual vs Predicted Values', fontsize = 16)\n",
        "plt.xlabel('Values', fontsize = 12)\n",
        "plt.ylabel('Frequency', fontsize = 12)\n",
        "plt.legend(loc = 'upper left', fontsize = 13)"
      ],
      "execution_count": null,
      "outputs": []
    },
    {
      "cell_type": "markdown",
      "metadata": {
        "id": "_4Deuyw0CUX1"
      },
      "source": [
        ""
      ]
    },
    {
      "cell_type": "markdown",
      "metadata": {
        "id": "PrDeamQCS0pU"
      },
      "source": [
        "## Multiple linear regression"
      ]
    },
    {
      "cell_type": "markdown",
      "metadata": {
        "id": "Mxs29cGPS0pU"
      },
      "source": [
        "### Your next task in regards to modeling is to perform a multiple linear regression in order to predic the same y.\n",
        "\n",
        "**Q** What varaibles from your dataset are appropriate to add to x to have more variables as input? Why?\n",
        "\n",
        "**C** Perform a multiple linear regression in a similar fashion as you did while performing the simple linear regression, start by assigning appropriate columns to X and y (y should be the same as in the simple linear regression).\n",
        "\n",
        "*It is preferable to use other names for your variables so as not to create confusion or overwrite variables by misstake.*\n",
        "\n",
        "**C** Evaluate your model using the same measurements as for the simple linear regression.\n",
        "\n",
        "**C** Create a visualization that show the difference between real values and predicted values on testdata (see simple linear regression visualization).\n",
        "\n",
        "**Q** Why is it difficult to create a visualization that show the result on training and testdata, similar to the ones we did in the simple linear regression above?\n",
        "\n",
        "**Q** How do the models differ? Which one is better than the other? Why?\n",
        "\n",
        "*To answer the questions and do the required coding, please use one codeblock per question to facilitate the checking of your assignment.*"
      ]
    },
    {
      "cell_type": "code",
      "metadata": {
        "id": "o3UnyLTkS0pU"
      },
      "source": [
        "#Assign variables to X and y \n",
        "X_ml = \n",
        "y_ml = "
      ],
      "execution_count": null,
      "outputs": []
    },
    {
      "cell_type": "code",
      "metadata": {
        "id": "Hpgf3rVSS0pV"
      },
      "source": [
        "#Split the dataset in train and test\n"
      ],
      "execution_count": null,
      "outputs": []
    },
    {
      "cell_type": "code",
      "metadata": {
        "id": "uPl-OiYBS0pV"
      },
      "source": [
        "#Train using trainingset and predict using testset\n",
        "lm_model = LinearRegression(fit_intercept=True)\n",
        "\n",
        "\n",
        "theta_0 = lm_model.intercept_\n",
        "theta_1 = lm_model.coef_\n",
        "theta_0, theta_1"
      ],
      "execution_count": null,
      "outputs": []
    },
    {
      "cell_type": "code",
      "metadata": {
        "id": "xdRoFQM4CUX4"
      },
      "source": [
        "#Visualize the difference between real values and predicted values on testdata"
      ],
      "execution_count": null,
      "outputs": []
    },
    {
      "cell_type": "code",
      "metadata": {
        "id": "xwWLHUW5S0pW"
      },
      "source": [
        "#Evaluate"
      ],
      "execution_count": null,
      "outputs": []
    },
    {
      "cell_type": "code",
      "metadata": {
        "id": "cFtwX5jICUX4"
      },
      "source": [
        ""
      ],
      "execution_count": null,
      "outputs": []
    }
  ]
}