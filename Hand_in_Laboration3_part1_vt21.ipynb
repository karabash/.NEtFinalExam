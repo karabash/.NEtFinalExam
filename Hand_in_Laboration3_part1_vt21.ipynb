{
  "nbformat": 4,
  "nbformat_minor": 0,
  "metadata": {
    "colab": {
      "name": "Hand_in_Laboration3_part1_vt21.ipynb",
      "provenance": [],
      "collapsed_sections": [
        "2xBp3umbmV1O",
        "Mxs29cGPS0pU"
      ],
      "toc_visible": true,
      "include_colab_link": true
    },
    "kernelspec": {
      "display_name": "Python 3",
      "language": "python",
      "name": "python3"
    },
    "language_info": {
      "codemirror_mode": {
        "name": "ipython",
        "version": 3
      },
      "file_extension": ".py",
      "mimetype": "text/x-python",
      "name": "python",
      "nbconvert_exporter": "python",
      "pygments_lexer": "ipython3",
      "version": "3.8.5"
    }
  },
  "cells": [
    {
      "cell_type": "markdown",
      "metadata": {
        "id": "view-in-github",
        "colab_type": "text"
      },
      "source": [
        "<a href=\"https://colab.research.google.com/github/karabash/.NEtFinalExam/blob/master/Hand_in_Laboration3_part1_vt21.ipynb\" target=\"_parent\"><img src=\"https://colab.research.google.com/assets/colab-badge.svg\" alt=\"Open In Colab\"/></a>"
      ]
    },
    {
      "cell_type": "markdown",
      "metadata": {
        "id": "wbtZXTuGS0pH"
      },
      "source": [
        "# Laboration 3 part 1 Regression\n",
        "\n",
        "In this part of laboratory 3 you will perform some different types of regression analysis on a dataset with weather data. Feel free to watch the lecture videos for lecture 6 that goes through regression (part 2 and 4 are most important). \n",
        "\n",
        "In the laboratory, only questions that have a **Q** in front should be answered (You may have to do some coding to be able to answer the question in some cases while in others there is only theoretical questions.). \n",
        "\n",
        "\n",
        "Tasks that are not questions but only coding are marked with **C**, these are also mandatory.\n",
        "\n",
        "Example:\n",
        "\n",
        "**Q** How many men and women have answered the survey? (Here it is preferable to do some coding to easily find the answer.)\n",
        "\n",
        "**C** Encode a function that calculates the 20 most common words in your data set.\n",
        "\n",
        "*When we correct the laboration we will not look specifically on how you did your coding to answer questions, but look at whether the answer is correct or not when it comes to questions marked with **Q** .*\n",
        "\n",
        "**This part of the laboration will be corrected by Soraya (and Elin) and therefore you need to write your answers in English!**\n",
        "\n",
        "**You are expected to add code blocks or text (markdown) blocks when needed. Make sure to use enough cells to make you code easy to read i.e. try to only make one thing in each cell.**"
      ]
    },
    {
      "cell_type": "markdown",
      "metadata": {
        "id": "cDq9zVhUmV0w"
      },
      "source": [
        "An initial import of a few of the required libraries is already coded, below. When you need other libraries you can add them in this cell or in the cell where you need them further in the lab. "
      ]
    },
    {
      "cell_type": "code",
      "metadata": {
        "colab": {
          "base_uri": "https://localhost:8080/"
        },
        "id": "igqmLBZfnCo3",
        "outputId": "a4d8fa68-23ce-41f5-e8a6-d478a4b486d3"
      },
      "source": [
        "from google.colab import drive\r\n",
        "try:\r\n",
        "    from google.colab import drive\r\n",
        "    drive.mount(\"/content/drive/\", force_remount=True)\r\n",
        "    google_drive_prefix = \"/content/drive/My Drive\"\r\n",
        "    data_prefix = \"{}/mnist/\".format(google_drive_prefix)\r\n",
        "except ModuleNotFoundError: \r\n",
        "    data_prefix = \"data/\"\r\n",
        "drive.mount('/content/drive')"
      ],
      "execution_count": 1,
      "outputs": [
        {
          "output_type": "stream",
          "text": [
            "Mounted at /content/drive/\n",
            "Drive already mounted at /content/drive; to attempt to forcibly remount, call drive.mount(\"/content/drive\", force_remount=True).\n"
          ],
          "name": "stdout"
        }
      ]
    },
    {
      "cell_type": "code",
      "metadata": {
        "colab": {
          "base_uri": "https://localhost:8080/"
        },
        "id": "iTcP3MhYnCi5",
        "outputId": "8abe4892-061b-48d8-d530-265f8ccf24cb"
      },
      "source": [
        "import os\r\n",
        "os.chdir('/content/drive/MyDrive/lab3')\r\n",
        "!pwd"
      ],
      "execution_count": 2,
      "outputs": [
        {
          "output_type": "stream",
          "text": [
            "/content/drive/MyDrive/lab3\n"
          ],
          "name": "stdout"
        }
      ]
    },
    {
      "cell_type": "code",
      "metadata": {
        "id": "GrIbIFt8S0pM",
        "colab": {
          "base_uri": "https://localhost:8080/"
        },
        "outputId": "4c6ebd79-cfb9-4819-ac3d-09b36dbc5ba7"
      },
      "source": [
        "# Import Pandas Library, used for data manipulation\n",
        "# Import matplotlib, used to plot our data\n",
        "# Import nump for mathemtical operations\n",
        "\n",
        "import pandas as pd\n",
        "import matplotlib.pyplot as plt\n",
        "import numpy as np\n",
        "import seaborn as sns\n",
        "from itertools import product\n",
        "from sklearn.linear_model import LinearRegression\n",
        "from sklearn.model_selection import train_test_split\n",
        "from sklearn import metrics\n",
        "from sklearn.metrics import mean_squared_error\n",
        "from sklearn.metrics import r2_score\n",
        "from math import sqrt\n",
        "from mpl_toolkits.mplot3d import Axes3D\n",
        "\n",
        "\n",
        "# Suppressing all warnings\n",
        "#import warnings\n",
        "#warnings.filterwarnings(\"ignore\")\n",
        "\n",
        "#import matplotlib\n",
        "\n",
        "#setup matplotlib\n",
        "#matplotlib.rc('figure', figsize = (20, 8))\n",
        "#matplotlib.rc('font', size = 14)\n",
        "#matplotlib.rc('axes.spines', top = False, right = False)\n",
        "#matplotlib.rc('axes', grid = False)\n",
        "#matplotlib.rc('axes', facecolor = 'white')\n",
        "\n",
        "#setup pandas\n",
        "pd.options.display.max_rows = 50\n",
        "pd.set_option('display.max_colwidth', -1)\n",
        "\n",
        "#import text analysing stuff.\n",
        "# not needed here...\n",
        "\n",
        "# maybe?\n",
        "#pip install nltk\n",
        "\n",
        "#import nltk as tm\n",
        "#from nltk.corpus import stopwords\n",
        "#import wordcloud\n",
        "#import matplotlib\n",
        "#from sklearn.feature_extraction.text import CountVectorizer\n",
        "# Sätt upp visualiseringen\n",
        "#%matplotlib inline\n",
        "#matplotlib.pyplot.rcParams['figure.figsize'] = [10, 6]\n",
        "\n",
        "#to download stopwords \n",
        "#tm.download('stopwords')\n",
        "\n",
        "#stopWords = set(stopwords.words('swedish'))\n",
        "#stopWords"
      ],
      "execution_count": 3,
      "outputs": [
        {
          "output_type": "stream",
          "text": [
            "/usr/local/lib/python3.7/dist-packages/ipykernel_launcher.py:34: FutureWarning: Passing a negative integer is deprecated in version 1.0 and will not be supported in future version. Instead, use None to not limit the column width.\n"
          ],
          "name": "stderr"
        }
      ]
    },
    {
      "cell_type": "code",
      "metadata": {
        "id": "d65dmWODmV0z"
      },
      "source": [
        "# Reused From last assignement and made functions\n",
        "# \n",
        "# Honi soit qui mal y pense\n",
        "\n",
        "# Just made a codeblock from previous assignements and some other python stuff implemented them as functions \n",
        "# for fast analysis and so on to just make it easy to paste in the new assignements and run as is.   \n",
        "\n",
        "\n",
        "#################################\n",
        "#\n",
        "# Numeric stuff\n",
        "#\n",
        "#################################\n",
        "\n",
        "# Plot outliers...\n",
        "def plot_outlier(feature):\n",
        "  plt.figure(figsize=(25, 6))\n",
        "  ax = sns.boxplot(x=feature, linewidth=2.5)\n",
        "\n",
        "# https://en.wikipedia.org/wiki/Interquartile_range\n",
        "def get_outlier_ranges(feature_column):\n",
        "    #sorted(feature_column)\n",
        "    q1,q3 = np.percentile(feature_column, [25,75])\n",
        "    print(feature_column)\n",
        "    iqr = q3 - q1\n",
        "    return (q1-(1.5*iqr)), (q3+(1.5*iqr))\n",
        "\n",
        "# C:\\Users\\gazel\\anaconda3\\lib\\site-packages\\seaborn\\distributions.py:2551: FutureWarning: `distplot` is a deprecated function and will be removed in a future version. \n",
        "# Please adapt your code to use either `displot` (a figure-level function with similar flexibility) or `histplot` (an axes-level function for histograms).\n",
        "def plot_dist(df, independent_features):\n",
        "  plt.figure(figsize=(25, 20))\n",
        "  for loc, feature in enumerate(independent_features):\n",
        "    ax = plt.subplot(3, 3, loc+1)\n",
        "    sns.distplot(df[feature]) # you can try histplot as well\n",
        "  return None\n",
        "#################################################################\n",
        "# one function     testRelPrel()\n",
        "#################################################################\n",
        "\n",
        "#cunts maximum values displays differances\n",
        "def get_relation(df, col1, col2):        \n",
        "    first_max = df[[col1, col2]].groupby(col1).count().max()[0]\n",
        "    print(first_max)\n",
        "    second_max = df[[col1, col2]].groupby(col2).count().max()[0]\n",
        "    print(second_max)\n",
        "    if first_max==1:\n",
        "        if second_max==1:\n",
        "            return 'one-to-one'\n",
        "        else:\n",
        "            return 'one-to-many'\n",
        "    else:\n",
        "        if second_max==1:\n",
        "            return 'many-to-one'\n",
        "        else:\n",
        "            return 'many-to-many'\n",
        "\n",
        "def testRelPrel(df):\n",
        "    for col_i, col_j in product(df.columns, df.columns):\n",
        "        if col_i == col_j:\n",
        "            continue\n",
        "        print(col_i, col_j, get_relation(df, col_i, col_j))\n",
        "\n",
        "#get_relation(df, d.Humidity, df.Sunshine)\n",
        "\n",
        "##################################################################\n",
        "\n",
        "#####################\n",
        "#\n",
        "# to check for categories\n",
        "#\n",
        "#######################\n",
        "def countplot(df,independent_features):\n",
        "  plt.figure(figsize=(25, 25))\n",
        "  for loc, feature in enumerate(independent_features):\n",
        "    ax = plt.subplot(3, 4, loc+1)\n",
        "    ax.set_xlabel('{}'.format(feature), fontsize=10)\n",
        "    chart = sns.countplot(df[feature])\n",
        "    chart.set_xticklabels(chart.get_xticklabels(), rotation=90)\n",
        "  return None\n",
        "\n",
        "# e'g : \n",
        "# newFrame=mc_df[['cup_size','fit','quality','category','height']] \n",
        "# countplot(newFrame)\n",
        "\n",
        "############\n",
        "#\n",
        "#text tools\n",
        "#\n",
        "##############\n",
        "\n",
        "#Clean emojies\n",
        "#encode2ascii = lambda x: x.encode('ascii', errors='ignore').decode('utf-8')\n",
        "#clean_tweets = tweets_corpus.apply(encode2ascii)\n",
        "\n",
        "#Clean links\n",
        "#clean_tweets = clean_tweets.str.replace(r'http\\S+', '')\n",
        "#clean_tweets\n",
        "\n",
        "#docmat = create_term_document_matrix(newdf, min_df=1)\n",
        "def create_term_document_matrix(corpus, min_df=1):# min_df -> minsta resultat \n",
        "    # skapar en column per ord och räknar de samman ställda\n",
        "    cvec = CountVectorizer(min_df=min_df, stop_words=stopWords)\n",
        "    tfmatrix = cvec.fit_transform(corpus)\n",
        "    return pd.DataFrame(data=tfmatrix.toarray(), columns=cvec.get_feature_names())\n",
        "\n",
        "#top_words = plot_top_words(words, 50, 30)\n",
        "def plot_top_words(tweets, num_word_instances, top_words):\n",
        "    tdm_df = create_term_document_matrix(tweets, min_df=2)\n",
        "    word_frequencies = tdm_df[[x for x in tdm_df.columns if len(x) > 1]].sum()\n",
        "    sorted_words = word_frequencies.sort_values(ascending=False)\n",
        "    top_sorted_words = sorted_words[:num_word_instances]\n",
        "    top_sorted_words[:top_words].plot.bar()\n",
        "    return top_sorted_words\n",
        "\n",
        "def showWordCloud(size,wordlist):\n",
        "    wordcloud = WordCloud(max_font_size=size)\n",
        "    wordcloud.fit_words(wodlist.to_dict())\n",
        "    plt.figure()\n",
        "    plt.imshow(wordcloud, interpolation=\"bilinear\")\n",
        "    plt.axis(\"off\")\n",
        "    plt.show()\n",
        "\n",
        "\n",
        "#other tools \n",
        "\n",
        "#sheck list differences\n",
        "#set(top_words_lowered[0:20].index) - set(top_words_low_no_small_stopwords[0:20].index)\n",
        "\n",
        "# Setting x and y to the appropriate variables, we reshape x to turn it from a 1D array to a 2D array, ready to be used in our model.\n",
        "   \n",
        "###########################\n",
        "#\n",
        "# Plot estimated regression \n",
        "#\n",
        "###########################\n",
        "#TODO can make these three to one\n",
        "def plotRegPrediction(x_values,y_values,xl,yl):\n",
        "    x = x_values.to_numpy().reshape(-1,1)\n",
        "    y = y_values\n",
        "    # Define the variable lr_model as our linear regression model\n",
        "    lr_model = LinearRegression()\n",
        "    # Fit our linear regression model to our data, we are essentially finding θ₀ and θ₁ in our regression line: ŷ = θ₀ + θ₁𝑥 (Y = m + Kx) formula. Gradient descent and other methods are used for this.\n",
        "    lr_model.fit(x, y)\n",
        "    # Find predicted values for all x values by applying ŷᵢ = θ₀ + θ₁𝑥ᵢ\n",
        "    y_pred = lr_model.predict(x)\n",
        "    plt.scatter(x, y)\n",
        "    plt.xlabel(xl)\n",
        "    plt.ylabel(yl)\n",
        "    # Here we are plotting our regression line ŷ = θ₀ + θ₁𝑥 \n",
        "    \n",
        "    # To only plot relation comment out this one \n",
        "    plt.plot(x, y_pred)\n",
        "#normal regression\n",
        "def testRegplot(model,xtest,ytest,pred,xtit,ytit):\n",
        "    y_pred_test=model.predict(xtest)\n",
        "    viz_test = plt\n",
        "    viz_test.scatter(xtest, ytest, color='red')\n",
        "    viz_test.plot(xtest, y_pred_test, color='blue')\n",
        "    #viz_test.title('Salary VS Experience (Test set)')\n",
        "    viz_test.xlabel(xtit)\n",
        "    viz_test.ylabel(ytit)\n",
        "    viz_test.show()\n",
        "\n",
        "#Beräknar kvalitetsvärden för testsdata\n",
        "    print(\"mse \" + str(mean_squared_error(ytest,pred)))\n",
        "    print(\"rmse \" + str(sqrt(mean_squared_error(ytest,pred))))\n",
        "    print(\"r^2 score \"  + str(r2_score(ytest, pred)))\n",
        "\n",
        "# plot 3d graph cluster input X[['1','2']], y ,y pred,titlex,titley, titlez\n",
        "def plot3dthing(x,y,pred,a,b,c):\n",
        "\n",
        "    x1 = x[['humidity']]\n",
        "    x2 = x[['wspeedkmh']]\n",
        "\n",
        "    mlr_model = LinearRegression()\n",
        "    mlr_model.fit(xtr, y)\n",
        "\n",
        "    fig = plt.figure()\n",
        "    ax = fig.add_subplot(111, projection='3d')\n",
        "\n",
        "    ax.scatter(x1, x2, y, c='r', marker='o')\n",
        "\n",
        "# Set axis labels\n",
        "    ax.set_xlabel(a)\n",
        "    ax.set_ylabel(b)\n",
        "    ax.set_zlabel(c)\n",
        "\n",
        "    print(\"mse \" + str(mean_squared_error(y,pred)))\n",
        "    print(\"rmse \" + str(sqrt(mean_squared_error(y,pred))))\n",
        "    print(\"r^2 score \"  + str(r2_score(y, pred)))\n",
        "    \n",
        "\n",
        "#################################################################    \n",
        "# Prediction learning\n",
        "#################################################################\n",
        "\n",
        "#TODO change to one function to take care of both multiple and simple learn \n",
        "#to next assignement\n",
        "def regression_predict(datax, datay):\n",
        "    #\n",
        "    x_ml = datax.to_numpy().reshape(-1,1)\n",
        "    y_ml = datay\n",
        "    \n",
        "    #Split the dataset in train and test\n",
        "    x_train, x_test, y_train, y_test = train_test_split(x_ml, y_ml, test_size=0.2, random_state=42)\n",
        "    \n",
        "    lm_model = LinearRegression(fit_intercept=True)\n",
        "    lm_model.fit(x_train, y_train)\n",
        "\n",
        "    y_pred_train = lm_model.predict(x_train)\n",
        "    y_pred_test = lm_model.predict(x_test)\n",
        "\n",
        "    theta_0 = lm_model.intercept_\n",
        "    theta_1 = lm_model.coef_\n",
        "    theta_0, theta_1\n",
        "    \n",
        "    return lm_model,x_train, x_test, y_train, y_test,y_pred_train,y_pred_test, theta_0, theta_1\n",
        "\n",
        "#a funktion for multiple learning \n",
        "def mutipleRegLearn(datax,datay):\n",
        "    x_ml = datax#.to_numpy().reshape(-1,1)\n",
        "    y_ml = datay\n",
        "    \n",
        "    #Split the dataset in train and test\n",
        "    x_train, x_test, y_train, y_test = train_test_split(x_ml, y_ml, test_size=0.2, random_state=42)\n",
        "    \n",
        "    lm_model = LinearRegression(fit_intercept=True)\n",
        "    lm_model.fit(x_train, y_train)\n",
        "\n",
        "    y_pred_train = lm_model.predict(x_train)\n",
        "    y_pred_test = lm_model.predict(x_test)\n",
        "\n",
        "    theta_0 = lm_model.intercept_\n",
        "    theta_1 = lm_model.coef_\n",
        "    theta_0, theta_1\n",
        "    \n",
        "    return lm_model,x_train, x_test, y_train, y_test,y_pred_train,y_pred_test, theta_0, theta_1\n",
        "\n",
        "\n"
      ],
      "execution_count": 4,
      "outputs": []
    },
    {
      "cell_type": "code",
      "metadata": {
        "id": "0BLD4-gBmV03"
      },
      "source": [
        ""
      ],
      "execution_count": null,
      "outputs": []
    },
    {
      "cell_type": "markdown",
      "metadata": {
        "id": "ssaLXiXHS0pN"
      },
      "source": [
        "## Data\n",
        "\n",
        "Start by: \n",
        "**C** Importing our dataset and store it in a suitable format with the name `weather_data`. "
      ]
    },
    {
      "cell_type": "code",
      "metadata": {
        "colab": {
          "base_uri": "https://localhost:8080/",
          "height": 195
        },
        "id": "_c0XOWUVS0pN",
        "outputId": "53fe84c9-666c-4798-c004-2b8f5418e762"
      },
      "source": [
        "# Import our WeatherData and store it in the variable weather_data \n",
        "weather_data = pd.read_csv('WeatherData_lab3.csv',delimiter=';')\n",
        "# Display the data in the notebook\n",
        "weather_data.head()"
      ],
      "execution_count": 5,
      "outputs": [
        {
          "output_type": "execute_result",
          "data": {
            "text/html": [
              "<div>\n",
              "<style scoped>\n",
              "    .dataframe tbody tr th:only-of-type {\n",
              "        vertical-align: middle;\n",
              "    }\n",
              "\n",
              "    .dataframe tbody tr th {\n",
              "        vertical-align: top;\n",
              "    }\n",
              "\n",
              "    .dataframe thead th {\n",
              "        text-align: right;\n",
              "    }\n",
              "</style>\n",
              "<table border=\"1\" class=\"dataframe\">\n",
              "  <thead>\n",
              "    <tr style=\"text-align: right;\">\n",
              "      <th></th>\n",
              "      <th>Temperature (C)</th>\n",
              "      <th>Wind Speed (km/h)</th>\n",
              "      <th>Pressure (millibars)</th>\n",
              "      <th>Humidity</th>\n",
              "      <th>Sunshine</th>\n",
              "      <th>Cloud</th>\n",
              "      <th>RainToday</th>\n",
              "      <th>Visibility (km)</th>\n",
              "    </tr>\n",
              "  </thead>\n",
              "  <tbody>\n",
              "    <tr>\n",
              "      <th>0</th>\n",
              "      <td>9.472222</td>\n",
              "      <td>14.1197</td>\n",
              "      <td>1015.13</td>\n",
              "      <td>0.89</td>\n",
              "      <td>NaN</td>\n",
              "      <td>8.0</td>\n",
              "      <td>No</td>\n",
              "      <td>15.8263</td>\n",
              "    </tr>\n",
              "    <tr>\n",
              "      <th>1</th>\n",
              "      <td>9.355556</td>\n",
              "      <td>14.2646</td>\n",
              "      <td>1015.63</td>\n",
              "      <td>0.86</td>\n",
              "      <td>NaN</td>\n",
              "      <td>NaN</td>\n",
              "      <td>No</td>\n",
              "      <td>15.8263</td>\n",
              "    </tr>\n",
              "    <tr>\n",
              "      <th>2</th>\n",
              "      <td>9.377778</td>\n",
              "      <td>3.9284</td>\n",
              "      <td>1015.94</td>\n",
              "      <td>0.89</td>\n",
              "      <td>NaN</td>\n",
              "      <td>NaN</td>\n",
              "      <td>No</td>\n",
              "      <td>14.9569</td>\n",
              "    </tr>\n",
              "    <tr>\n",
              "      <th>3</th>\n",
              "      <td>8.288889</td>\n",
              "      <td>14.1036</td>\n",
              "      <td>1016.41</td>\n",
              "      <td>0.83</td>\n",
              "      <td>NaN</td>\n",
              "      <td>NaN</td>\n",
              "      <td>No</td>\n",
              "      <td>15.8263</td>\n",
              "    </tr>\n",
              "    <tr>\n",
              "      <th>4</th>\n",
              "      <td>8.755556</td>\n",
              "      <td>11.0446</td>\n",
              "      <td>1016.51</td>\n",
              "      <td>0.83</td>\n",
              "      <td>NaN</td>\n",
              "      <td>7.0</td>\n",
              "      <td>No</td>\n",
              "      <td>15.8263</td>\n",
              "    </tr>\n",
              "  </tbody>\n",
              "</table>\n",
              "</div>"
            ],
            "text/plain": [
              "   Temperature (C)  Wind Speed (km/h)  ...  RainToday  Visibility (km)\n",
              "0  9.472222         14.1197            ...  No         15.8263        \n",
              "1  9.355556         14.2646            ...  No         15.8263        \n",
              "2  9.377778         3.9284             ...  No         14.9569        \n",
              "3  8.288889         14.1036            ...  No         15.8263        \n",
              "4  8.755556         11.0446            ...  No         15.8263        \n",
              "\n",
              "[5 rows x 8 columns]"
            ]
          },
          "metadata": {
            "tags": []
          },
          "execution_count": 5
        }
      ]
    },
    {
      "cell_type": "code",
      "metadata": {
        "id": "HOWD3QRPmV1D",
        "outputId": "67ce5b49-61c6-446d-8742-7792ee10a2de"
      },
      "source": [
        "weather_data['Wind Speed (km/h)'].max()"
      ],
      "execution_count": null,
      "outputs": [
        {
          "output_type": "execute_result",
          "data": {
            "text/plain": [
              "28.3682"
            ]
          },
          "metadata": {
            "tags": []
          },
          "execution_count": 105
        }
      ]
    },
    {
      "cell_type": "markdown",
      "metadata": {
        "id": "xpXDHqy2S0pP"
      },
      "source": [
        "## Exploratory analysis\n",
        " \n",
        "\n",
        "**Q** What type of data is in the dataset? (HINT! dtype and type of variable: categorial/continous) \n",
        "\n",
        "Everything seams to be float. Which makes things easy exept rain today which could be changed to boolean.\n",
        "\n",
        "**Q** How many rows and columns, number of datapoints?\n",
        "\n",
        "(50 rows * 8 columns) - 90NaN = 310... \n",
        "\n",
        "**Q** How do you interpret the different columns, write a short sentence that describes each column.\n",
        "\n",
        "Overall the data seams to be one specific time one day or an average of a day week or mounth when there is no static timestamp. But only because of the RainToday column, one can make the assumption that it is an average of one day per row. \n",
        "\n",
        "Temperature - In celsius. float \n",
        "\n",
        "WindSpeed - In an odd pice of mesurement unit km/h normally the SI for velocity (v) is m/s. I guess it is not needed for this small values and maximum vindspeed of 8m/s. float\n",
        "\n",
        "Preassure - In millibars normal preassure, sunny with no wind is around 1012mb. float\n",
        "\n",
        "Humidity - Or moisturelevel in the air is usually in precentage. float displayed as *100 percentage.\n",
        "\n",
        "Sunshine - See clouds\n",
        "\n",
        "Clouds - Is the only one one feel a bit uncomftorble with because of all the nonconsistancy and NaN values. \n",
        "All the NaN values we interpret as sunny so : The Sunshine column should probably be dropped totaly because of all the NaN. \n",
        "\n",
        "RainToday - A boolean data set not sure yet how to trust.\n",
        "\n",
        "Visibility - In km but there seams to be alot of inconsistancies \n",
        "\n",
        "**C** Rename columns that have unsuitable names for the columns or if the columns have names that are difficult to interpret. (IF everything looks good, you don't need to do anything here) \n",
        "\n",
        "**C** Code suitable visualisations that show the relationship between the different variables in the dataset (in two dimensions). Include labels on x and y axis and display a legend for the visualisation(s). You can choose if you want to visualise each relationship in its own plot or if you want to plot all relationships in one visualisation, if you choose the latter, you need to make it possible to distinguish between the different variables.\n",
        "\n",
        "First there is no outliers.\n",
        "\n",
        "And second checking all data distribution function from last lab:\n",
        "\n",
        "Categorial: Can only identify mostly float and integers.\n",
        "\n",
        "There is no real categorial data on this dataset to videly diversified.\n",
        "\n",
        "second check all int and float diversified.\n",
        "\n",
        "We check all maximum counted different values against each other to just sese the diversity better and the only column that is totaly diversified.\n",
        "\n",
        "\n",
        "\n",
        "**Q** What kinds of relationship can you see between the different variables? \n",
        "\n",
        "temperature seams not to be specificly deep bit A/D translation max |50C > -50C| -> 100C  per bit it seams to be something divided by 0.3 max min.\n",
        "\n",
        "pressure above 1012mb oftem means sunshine and nice weather so all those NaN values in clouds could Become 0 for real\n",
        "one could also assume that it is cloudy no-8 when raining always.\n",
        "\n",
        "I'm not sure if the rain function works properly to trust or drop...\n",
        "There is usually higher humidity when it is raining and a bit lower preassure then 1012.\n",
        "and it is not getting more humudity when raining. so it makes no sense."
      ]
    },
    {
      "cell_type": "code",
      "metadata": {
        "id": "A3tiVdmCmV1E"
      },
      "source": [
        "#Quick Data info "
      ],
      "execution_count": null,
      "outputs": []
    },
    {
      "cell_type": "code",
      "metadata": {
        "id": "ECCE8qlLmV1F",
        "outputId": "79d94717-60c8-411e-cf29-115ad17738fb"
      },
      "source": [
        "weather_data.info(verbose=True)"
      ],
      "execution_count": null,
      "outputs": [
        {
          "output_type": "stream",
          "text": [
            "<class 'pandas.core.frame.DataFrame'>\n",
            "RangeIndex: 50 entries, 0 to 49\n",
            "Data columns (total 8 columns):\n",
            " #   Column                Non-Null Count  Dtype  \n",
            "---  ------                --------------  -----  \n",
            " 0   Temperature (C)       50 non-null     float64\n",
            " 1   Wind Speed (km/h)     50 non-null     float64\n",
            " 2   Pressure (millibars)  50 non-null     float64\n",
            " 3   Humidity              50 non-null     float64\n",
            " 4   Sunshine              0 non-null      float64\n",
            " 5   Cloud                 11 non-null     float64\n",
            " 6   RainToday             49 non-null     object \n",
            " 7   Visibility (km)       50 non-null     float64\n",
            "dtypes: float64(7), object(1)\n",
            "memory usage: 3.2+ KB\n"
          ],
          "name": "stdout"
        }
      ]
    },
    {
      "cell_type": "code",
      "metadata": {
        "id": "LZ5K-cnTmV1H",
        "outputId": "e81be781-dccd-49f1-8c67-d5c549ca0f38"
      },
      "source": [
        "(weather_data.nunique(dropna=True))"
      ],
      "execution_count": null,
      "outputs": [
        {
          "output_type": "execute_result",
          "data": {
            "text/plain": [
              "Temperature (C)         46\n",
              "Wind Speed (km/h)       48\n",
              "Pressure (millibars)    50\n",
              "Humidity                34\n",
              "Sunshine                0 \n",
              "Cloud                   5 \n",
              "RainToday               2 \n",
              "Visibility (km)         10\n",
              "dtype: int64"
            ]
          },
          "metadata": {
            "tags": []
          },
          "execution_count": 108
        }
      ]
    },
    {
      "cell_type": "code",
      "metadata": {
        "id": "86iLdcqzmV1H",
        "outputId": "cb820dab-3a2a-4cc5-a866-ac79c3b7d6a9"
      },
      "source": [
        "null_counts = weather_data.isnull().sum()\n",
        "null_counts[null_counts > 0].sort_values(ascending=False) "
      ],
      "execution_count": null,
      "outputs": [
        {
          "output_type": "execute_result",
          "data": {
            "text/plain": [
              "Sunshine     50\n",
              "Cloud        39\n",
              "RainToday    1 \n",
              "dtype: int64"
            ]
          },
          "metadata": {
            "tags": []
          },
          "execution_count": 109
        }
      ]
    },
    {
      "cell_type": "code",
      "metadata": {
        "id": "oZDsvOWymV1H"
      },
      "source": [
        "# Change name... faster to write in code.... \n",
        "wd_df = weather_data"
      ],
      "execution_count": null,
      "outputs": []
    },
    {
      "cell_type": "code",
      "metadata": {
        "id": "9W1zEEqWmV1I",
        "outputId": "ac4373bc-ad9f-42e1-e95b-010b2c5b34c2"
      },
      "source": [
        "wd_df=wd_df.rename(columns={\"Temperature (C)\":\"tempC\",\n",
        "                            \"Wind Speed (km/h)\":\"wspeedkmh\",\n",
        "                            \"Pressure (millibars)\":\"pressmb\",\n",
        "                            \"RainToday\":\"rain\",\n",
        "                            \"Humidity\":\"humidity\",\n",
        "                            \"Visibility (km)\":\"visikm\"})\n",
        "wd_df"
      ],
      "execution_count": null,
      "outputs": [
        {
          "output_type": "execute_result",
          "data": {
            "text/html": [
              "<div>\n",
              "<style scoped>\n",
              "    .dataframe tbody tr th:only-of-type {\n",
              "        vertical-align: middle;\n",
              "    }\n",
              "\n",
              "    .dataframe tbody tr th {\n",
              "        vertical-align: top;\n",
              "    }\n",
              "\n",
              "    .dataframe thead th {\n",
              "        text-align: right;\n",
              "    }\n",
              "</style>\n",
              "<table border=\"1\" class=\"dataframe\">\n",
              "  <thead>\n",
              "    <tr style=\"text-align: right;\">\n",
              "      <th></th>\n",
              "      <th>tempC</th>\n",
              "      <th>wspeedkmh</th>\n",
              "      <th>pressmb</th>\n",
              "      <th>humidity</th>\n",
              "      <th>Sunshine</th>\n",
              "      <th>Cloud</th>\n",
              "      <th>rain</th>\n",
              "      <th>visikm</th>\n",
              "    </tr>\n",
              "  </thead>\n",
              "  <tbody>\n",
              "    <tr>\n",
              "      <th>0</th>\n",
              "      <td>9.472222</td>\n",
              "      <td>14.1197</td>\n",
              "      <td>1015.13</td>\n",
              "      <td>0.89</td>\n",
              "      <td>NaN</td>\n",
              "      <td>8.0</td>\n",
              "      <td>No</td>\n",
              "      <td>15.8263</td>\n",
              "    </tr>\n",
              "    <tr>\n",
              "      <th>1</th>\n",
              "      <td>9.355556</td>\n",
              "      <td>14.2646</td>\n",
              "      <td>1015.63</td>\n",
              "      <td>0.86</td>\n",
              "      <td>NaN</td>\n",
              "      <td>NaN</td>\n",
              "      <td>No</td>\n",
              "      <td>15.8263</td>\n",
              "    </tr>\n",
              "    <tr>\n",
              "      <th>2</th>\n",
              "      <td>9.377778</td>\n",
              "      <td>3.9284</td>\n",
              "      <td>1015.94</td>\n",
              "      <td>0.89</td>\n",
              "      <td>NaN</td>\n",
              "      <td>NaN</td>\n",
              "      <td>No</td>\n",
              "      <td>14.9569</td>\n",
              "    </tr>\n",
              "    <tr>\n",
              "      <th>3</th>\n",
              "      <td>8.288889</td>\n",
              "      <td>14.1036</td>\n",
              "      <td>1016.41</td>\n",
              "      <td>0.83</td>\n",
              "      <td>NaN</td>\n",
              "      <td>NaN</td>\n",
              "      <td>No</td>\n",
              "      <td>15.8263</td>\n",
              "    </tr>\n",
              "    <tr>\n",
              "      <th>4</th>\n",
              "      <td>8.755556</td>\n",
              "      <td>11.0446</td>\n",
              "      <td>1016.51</td>\n",
              "      <td>0.83</td>\n",
              "      <td>NaN</td>\n",
              "      <td>7.0</td>\n",
              "      <td>No</td>\n",
              "      <td>15.8263</td>\n",
              "    </tr>\n",
              "    <tr>\n",
              "      <th>5</th>\n",
              "      <td>9.222222</td>\n",
              "      <td>13.9587</td>\n",
              "      <td>1016.66</td>\n",
              "      <td>0.85</td>\n",
              "      <td>NaN</td>\n",
              "      <td>NaN</td>\n",
              "      <td>No</td>\n",
              "      <td>14.9569</td>\n",
              "    </tr>\n",
              "    <tr>\n",
              "      <th>6</th>\n",
              "      <td>7.733333</td>\n",
              "      <td>12.3648</td>\n",
              "      <td>1016.72</td>\n",
              "      <td>0.95</td>\n",
              "      <td>NaN</td>\n",
              "      <td>1.0</td>\n",
              "      <td>No</td>\n",
              "      <td>9.9820</td>\n",
              "    </tr>\n",
              "    <tr>\n",
              "      <th>7</th>\n",
              "      <td>8.772222</td>\n",
              "      <td>14.1519</td>\n",
              "      <td>1016.84</td>\n",
              "      <td>0.89</td>\n",
              "      <td>NaN</td>\n",
              "      <td>NaN</td>\n",
              "      <td>No</td>\n",
              "      <td>9.9820</td>\n",
              "    </tr>\n",
              "    <tr>\n",
              "      <th>8</th>\n",
              "      <td>10.822222</td>\n",
              "      <td>11.3183</td>\n",
              "      <td>1017.37</td>\n",
              "      <td>0.82</td>\n",
              "      <td>NaN</td>\n",
              "      <td>NaN</td>\n",
              "      <td>No</td>\n",
              "      <td>9.9820</td>\n",
              "    </tr>\n",
              "    <tr>\n",
              "      <th>9</th>\n",
              "      <td>13.772222</td>\n",
              "      <td>12.5258</td>\n",
              "      <td>1017.22</td>\n",
              "      <td>0.72</td>\n",
              "      <td>NaN</td>\n",
              "      <td>NaN</td>\n",
              "      <td>Yes</td>\n",
              "      <td>9.9820</td>\n",
              "    </tr>\n",
              "    <tr>\n",
              "      <th>10</th>\n",
              "      <td>16.016667</td>\n",
              "      <td>17.5651</td>\n",
              "      <td>1017.42</td>\n",
              "      <td>0.67</td>\n",
              "      <td>NaN</td>\n",
              "      <td>NaN</td>\n",
              "      <td>No</td>\n",
              "      <td>11.2056</td>\n",
              "    </tr>\n",
              "    <tr>\n",
              "      <th>11</th>\n",
              "      <td>17.144444</td>\n",
              "      <td>19.7869</td>\n",
              "      <td>1017.74</td>\n",
              "      <td>0.54</td>\n",
              "      <td>NaN</td>\n",
              "      <td>8.0</td>\n",
              "      <td>Yes</td>\n",
              "      <td>11.4471</td>\n",
              "    </tr>\n",
              "    <tr>\n",
              "      <th>12</th>\n",
              "      <td>17.800000</td>\n",
              "      <td>21.9443</td>\n",
              "      <td>1017.59</td>\n",
              "      <td>0.55</td>\n",
              "      <td>NaN</td>\n",
              "      <td>8.0</td>\n",
              "      <td>Yes</td>\n",
              "      <td>11.2700</td>\n",
              "    </tr>\n",
              "    <tr>\n",
              "      <th>13</th>\n",
              "      <td>17.333333</td>\n",
              "      <td>20.6885</td>\n",
              "      <td>1017.48</td>\n",
              "      <td>0.51</td>\n",
              "      <td>NaN</td>\n",
              "      <td>NaN</td>\n",
              "      <td>Yes</td>\n",
              "      <td>11.2700</td>\n",
              "    </tr>\n",
              "    <tr>\n",
              "      <th>14</th>\n",
              "      <td>18.877778</td>\n",
              "      <td>15.3755</td>\n",
              "      <td>1017.17</td>\n",
              "      <td>0.47</td>\n",
              "      <td>NaN</td>\n",
              "      <td>0.0</td>\n",
              "      <td>NaN</td>\n",
              "      <td>11.4471</td>\n",
              "    </tr>\n",
              "    <tr>\n",
              "      <th>15</th>\n",
              "      <td>18.911111</td>\n",
              "      <td>10.4006</td>\n",
              "      <td>1016.47</td>\n",
              "      <td>0.46</td>\n",
              "      <td>NaN</td>\n",
              "      <td>8.0</td>\n",
              "      <td>No</td>\n",
              "      <td>11.2700</td>\n",
              "    </tr>\n",
              "    <tr>\n",
              "      <th>16</th>\n",
              "      <td>15.388889</td>\n",
              "      <td>14.4095</td>\n",
              "      <td>1016.15</td>\n",
              "      <td>0.60</td>\n",
              "      <td>NaN</td>\n",
              "      <td>8.0</td>\n",
              "      <td>Yes</td>\n",
              "      <td>11.2700</td>\n",
              "    </tr>\n",
              "    <tr>\n",
              "      <th>17</th>\n",
              "      <td>15.550000</td>\n",
              "      <td>11.1573</td>\n",
              "      <td>1016.17</td>\n",
              "      <td>0.63</td>\n",
              "      <td>NaN</td>\n",
              "      <td>NaN</td>\n",
              "      <td>Yes</td>\n",
              "      <td>11.4471</td>\n",
              "    </tr>\n",
              "    <tr>\n",
              "      <th>18</th>\n",
              "      <td>14.255556</td>\n",
              "      <td>8.5169</td>\n",
              "      <td>1015.82</td>\n",
              "      <td>0.69</td>\n",
              "      <td>NaN</td>\n",
              "      <td>NaN</td>\n",
              "      <td>No</td>\n",
              "      <td>11.2056</td>\n",
              "    </tr>\n",
              "    <tr>\n",
              "      <th>19</th>\n",
              "      <td>13.144444</td>\n",
              "      <td>7.6314</td>\n",
              "      <td>1015.83</td>\n",
              "      <td>0.70</td>\n",
              "      <td>NaN</td>\n",
              "      <td>NaN</td>\n",
              "      <td>No</td>\n",
              "      <td>11.2056</td>\n",
              "    </tr>\n",
              "    <tr>\n",
              "      <th>20</th>\n",
              "      <td>11.550000</td>\n",
              "      <td>7.3899</td>\n",
              "      <td>1015.85</td>\n",
              "      <td>0.77</td>\n",
              "      <td>NaN</td>\n",
              "      <td>NaN</td>\n",
              "      <td>No</td>\n",
              "      <td>11.0285</td>\n",
              "    </tr>\n",
              "    <tr>\n",
              "      <th>21</th>\n",
              "      <td>11.183333</td>\n",
              "      <td>4.9266</td>\n",
              "      <td>1015.77</td>\n",
              "      <td>0.76</td>\n",
              "      <td>NaN</td>\n",
              "      <td>NaN</td>\n",
              "      <td>No</td>\n",
              "      <td>9.9820</td>\n",
              "    </tr>\n",
              "    <tr>\n",
              "      <th>22</th>\n",
              "      <td>10.116667</td>\n",
              "      <td>6.6493</td>\n",
              "      <td>1015.40</td>\n",
              "      <td>0.79</td>\n",
              "      <td>NaN</td>\n",
              "      <td>5.0</td>\n",
              "      <td>No</td>\n",
              "      <td>15.8263</td>\n",
              "    </tr>\n",
              "    <tr>\n",
              "      <th>23</th>\n",
              "      <td>10.200000</td>\n",
              "      <td>3.9284</td>\n",
              "      <td>1015.51</td>\n",
              "      <td>0.77</td>\n",
              "      <td>NaN</td>\n",
              "      <td>NaN</td>\n",
              "      <td>No</td>\n",
              "      <td>14.9569</td>\n",
              "    </tr>\n",
              "    <tr>\n",
              "      <th>24</th>\n",
              "      <td>10.422222</td>\n",
              "      <td>16.9855</td>\n",
              "      <td>1014.40</td>\n",
              "      <td>0.62</td>\n",
              "      <td>NaN</td>\n",
              "      <td>NaN</td>\n",
              "      <td>No</td>\n",
              "      <td>15.8263</td>\n",
              "    </tr>\n",
              "    <tr>\n",
              "      <th>25</th>\n",
              "      <td>9.911111</td>\n",
              "      <td>17.2109</td>\n",
              "      <td>1014.20</td>\n",
              "      <td>0.66</td>\n",
              "      <td>NaN</td>\n",
              "      <td>NaN</td>\n",
              "      <td>No</td>\n",
              "      <td>15.8263</td>\n",
              "    </tr>\n",
              "    <tr>\n",
              "      <th>26</th>\n",
              "      <td>11.183333</td>\n",
              "      <td>10.8192</td>\n",
              "      <td>1008.71</td>\n",
              "      <td>0.80</td>\n",
              "      <td>NaN</td>\n",
              "      <td>NaN</td>\n",
              "      <td>No</td>\n",
              "      <td>14.9569</td>\n",
              "    </tr>\n",
              "    <tr>\n",
              "      <th>27</th>\n",
              "      <td>7.155556</td>\n",
              "      <td>11.0768</td>\n",
              "      <td>1014.47</td>\n",
              "      <td>0.79</td>\n",
              "      <td>NaN</td>\n",
              "      <td>NaN</td>\n",
              "      <td>No</td>\n",
              "      <td>15.8263</td>\n",
              "    </tr>\n",
              "    <tr>\n",
              "      <th>28</th>\n",
              "      <td>6.111111</td>\n",
              "      <td>6.6493</td>\n",
              "      <td>1014.45</td>\n",
              "      <td>0.82</td>\n",
              "      <td>NaN</td>\n",
              "      <td>8.0</td>\n",
              "      <td>Yes</td>\n",
              "      <td>15.8263</td>\n",
              "    </tr>\n",
              "    <tr>\n",
              "      <th>29</th>\n",
              "      <td>6.788889</td>\n",
              "      <td>13.0088</td>\n",
              "      <td>1014.49</td>\n",
              "      <td>0.83</td>\n",
              "      <td>NaN</td>\n",
              "      <td>1.0</td>\n",
              "      <td>No</td>\n",
              "      <td>14.9569</td>\n",
              "    </tr>\n",
              "    <tr>\n",
              "      <th>30</th>\n",
              "      <td>7.261111</td>\n",
              "      <td>11.1734</td>\n",
              "      <td>1014.52</td>\n",
              "      <td>0.85</td>\n",
              "      <td>NaN</td>\n",
              "      <td>NaN</td>\n",
              "      <td>No</td>\n",
              "      <td>6.1985</td>\n",
              "    </tr>\n",
              "    <tr>\n",
              "      <th>31</th>\n",
              "      <td>7.800000</td>\n",
              "      <td>12.8156</td>\n",
              "      <td>1014.16</td>\n",
              "      <td>0.83</td>\n",
              "      <td>NaN</td>\n",
              "      <td>NaN</td>\n",
              "      <td>No</td>\n",
              "      <td>8.0500</td>\n",
              "    </tr>\n",
              "    <tr>\n",
              "      <th>32</th>\n",
              "      <td>9.872222</td>\n",
              "      <td>13.7494</td>\n",
              "      <td>1014.24</td>\n",
              "      <td>0.78</td>\n",
              "      <td>NaN</td>\n",
              "      <td>NaN</td>\n",
              "      <td>No</td>\n",
              "      <td>9.9820</td>\n",
              "    </tr>\n",
              "    <tr>\n",
              "      <th>33</th>\n",
              "      <td>12.222222</td>\n",
              "      <td>15.6331</td>\n",
              "      <td>1014.25</td>\n",
              "      <td>0.72</td>\n",
              "      <td>NaN</td>\n",
              "      <td>NaN</td>\n",
              "      <td>No</td>\n",
              "      <td>9.9820</td>\n",
              "    </tr>\n",
              "    <tr>\n",
              "      <th>34</th>\n",
              "      <td>15.094444</td>\n",
              "      <td>17.5490</td>\n",
              "      <td>1013.96</td>\n",
              "      <td>0.61</td>\n",
              "      <td>NaN</td>\n",
              "      <td>NaN</td>\n",
              "      <td>No</td>\n",
              "      <td>9.9820</td>\n",
              "    </tr>\n",
              "    <tr>\n",
              "      <th>35</th>\n",
              "      <td>17.355556</td>\n",
              "      <td>22.7815</td>\n",
              "      <td>1013.85</td>\n",
              "      <td>0.52</td>\n",
              "      <td>NaN</td>\n",
              "      <td>NaN</td>\n",
              "      <td>No</td>\n",
              "      <td>9.9820</td>\n",
              "    </tr>\n",
              "    <tr>\n",
              "      <th>36</th>\n",
              "      <td>19.005556</td>\n",
              "      <td>23.8924</td>\n",
              "      <td>1013.04</td>\n",
              "      <td>0.46</td>\n",
              "      <td>NaN</td>\n",
              "      <td>NaN</td>\n",
              "      <td>No</td>\n",
              "      <td>9.9820</td>\n",
              "    </tr>\n",
              "    <tr>\n",
              "      <th>37</th>\n",
              "      <td>20.044444</td>\n",
              "      <td>28.3682</td>\n",
              "      <td>1012.22</td>\n",
              "      <td>0.40</td>\n",
              "      <td>NaN</td>\n",
              "      <td>NaN</td>\n",
              "      <td>No</td>\n",
              "      <td>9.9820</td>\n",
              "    </tr>\n",
              "    <tr>\n",
              "      <th>38</th>\n",
              "      <td>21.050000</td>\n",
              "      <td>26.9031</td>\n",
              "      <td>1011.44</td>\n",
              "      <td>0.40</td>\n",
              "      <td>NaN</td>\n",
              "      <td>NaN</td>\n",
              "      <td>No</td>\n",
              "      <td>10.3523</td>\n",
              "    </tr>\n",
              "    <tr>\n",
              "      <th>39</th>\n",
              "      <td>21.183333</td>\n",
              "      <td>25.6956</td>\n",
              "      <td>1010.52</td>\n",
              "      <td>0.37</td>\n",
              "      <td>NaN</td>\n",
              "      <td>NaN</td>\n",
              "      <td>No</td>\n",
              "      <td>9.9820</td>\n",
              "    </tr>\n",
              "    <tr>\n",
              "      <th>40</th>\n",
              "      <td>20.116667</td>\n",
              "      <td>25.3092</td>\n",
              "      <td>1009.83</td>\n",
              "      <td>0.40</td>\n",
              "      <td>NaN</td>\n",
              "      <td>NaN</td>\n",
              "      <td>No</td>\n",
              "      <td>9.9820</td>\n",
              "    </tr>\n",
              "    <tr>\n",
              "      <th>41</th>\n",
              "      <td>20.216667</td>\n",
              "      <td>18.1125</td>\n",
              "      <td>1009.26</td>\n",
              "      <td>0.36</td>\n",
              "      <td>NaN</td>\n",
              "      <td>NaN</td>\n",
              "      <td>No</td>\n",
              "      <td>10.3523</td>\n",
              "    </tr>\n",
              "    <tr>\n",
              "      <th>42</th>\n",
              "      <td>20.000000</td>\n",
              "      <td>23.4255</td>\n",
              "      <td>1008.76</td>\n",
              "      <td>0.43</td>\n",
              "      <td>NaN</td>\n",
              "      <td>NaN</td>\n",
              "      <td>No</td>\n",
              "      <td>9.9820</td>\n",
              "    </tr>\n",
              "    <tr>\n",
              "      <th>43</th>\n",
              "      <td>17.800000</td>\n",
              "      <td>20.0445</td>\n",
              "      <td>1008.36</td>\n",
              "      <td>0.50</td>\n",
              "      <td>NaN</td>\n",
              "      <td>NaN</td>\n",
              "      <td>No</td>\n",
              "      <td>11.2056</td>\n",
              "    </tr>\n",
              "    <tr>\n",
              "      <th>44</th>\n",
              "      <td>16.061111</td>\n",
              "      <td>21.3969</td>\n",
              "      <td>1008.11</td>\n",
              "      <td>0.53</td>\n",
              "      <td>NaN</td>\n",
              "      <td>NaN</td>\n",
              "      <td>No</td>\n",
              "      <td>9.9820</td>\n",
              "    </tr>\n",
              "    <tr>\n",
              "      <th>45</th>\n",
              "      <td>15.022222</td>\n",
              "      <td>21.3808</td>\n",
              "      <td>1008.15</td>\n",
              "      <td>0.55</td>\n",
              "      <td>NaN</td>\n",
              "      <td>NaN</td>\n",
              "      <td>No</td>\n",
              "      <td>9.9820</td>\n",
              "    </tr>\n",
              "    <tr>\n",
              "      <th>46</th>\n",
              "      <td>14.422222</td>\n",
              "      <td>20.0123</td>\n",
              "      <td>1007.85</td>\n",
              "      <td>0.58</td>\n",
              "      <td>NaN</td>\n",
              "      <td>NaN</td>\n",
              "      <td>No</td>\n",
              "      <td>15.8263</td>\n",
              "    </tr>\n",
              "    <tr>\n",
              "      <th>47</th>\n",
              "      <td>14.255556</td>\n",
              "      <td>16.5025</td>\n",
              "      <td>1007.89</td>\n",
              "      <td>0.59</td>\n",
              "      <td>NaN</td>\n",
              "      <td>NaN</td>\n",
              "      <td>No</td>\n",
              "      <td>14.9569</td>\n",
              "    </tr>\n",
              "    <tr>\n",
              "      <th>48</th>\n",
              "      <td>13.772222</td>\n",
              "      <td>17.0982</td>\n",
              "      <td>1007.36</td>\n",
              "      <td>0.60</td>\n",
              "      <td>NaN</td>\n",
              "      <td>NaN</td>\n",
              "      <td>No</td>\n",
              "      <td>15.8263</td>\n",
              "    </tr>\n",
              "    <tr>\n",
              "      <th>49</th>\n",
              "      <td>13.283333</td>\n",
              "      <td>14.3612</td>\n",
              "      <td>1007.26</td>\n",
              "      <td>0.63</td>\n",
              "      <td>NaN</td>\n",
              "      <td>NaN</td>\n",
              "      <td>No</td>\n",
              "      <td>15.8263</td>\n",
              "    </tr>\n",
              "  </tbody>\n",
              "</table>\n",
              "</div>"
            ],
            "text/plain": [
              "        tempC  wspeedkmh  pressmb  humidity  Sunshine  Cloud rain   visikm\n",
              "0   9.472222   14.1197    1015.13  0.89     NaN        8.0    No   15.8263\n",
              "1   9.355556   14.2646    1015.63  0.86     NaN       NaN     No   15.8263\n",
              "2   9.377778   3.9284     1015.94  0.89     NaN       NaN     No   14.9569\n",
              "3   8.288889   14.1036    1016.41  0.83     NaN       NaN     No   15.8263\n",
              "4   8.755556   11.0446    1016.51  0.83     NaN        7.0    No   15.8263\n",
              "5   9.222222   13.9587    1016.66  0.85     NaN       NaN     No   14.9569\n",
              "6   7.733333   12.3648    1016.72  0.95     NaN        1.0    No   9.9820 \n",
              "7   8.772222   14.1519    1016.84  0.89     NaN       NaN     No   9.9820 \n",
              "8   10.822222  11.3183    1017.37  0.82     NaN       NaN     No   9.9820 \n",
              "9   13.772222  12.5258    1017.22  0.72     NaN       NaN     Yes  9.9820 \n",
              "10  16.016667  17.5651    1017.42  0.67     NaN       NaN     No   11.2056\n",
              "11  17.144444  19.7869    1017.74  0.54     NaN        8.0    Yes  11.4471\n",
              "12  17.800000  21.9443    1017.59  0.55     NaN        8.0    Yes  11.2700\n",
              "13  17.333333  20.6885    1017.48  0.51     NaN       NaN     Yes  11.2700\n",
              "14  18.877778  15.3755    1017.17  0.47     NaN        0.0    NaN  11.4471\n",
              "15  18.911111  10.4006    1016.47  0.46     NaN        8.0    No   11.2700\n",
              "16  15.388889  14.4095    1016.15  0.60     NaN        8.0    Yes  11.2700\n",
              "17  15.550000  11.1573    1016.17  0.63     NaN       NaN     Yes  11.4471\n",
              "18  14.255556  8.5169     1015.82  0.69     NaN       NaN     No   11.2056\n",
              "19  13.144444  7.6314     1015.83  0.70     NaN       NaN     No   11.2056\n",
              "20  11.550000  7.3899     1015.85  0.77     NaN       NaN     No   11.0285\n",
              "21  11.183333  4.9266     1015.77  0.76     NaN       NaN     No   9.9820 \n",
              "22  10.116667  6.6493     1015.40  0.79     NaN        5.0    No   15.8263\n",
              "23  10.200000  3.9284     1015.51  0.77     NaN       NaN     No   14.9569\n",
              "24  10.422222  16.9855    1014.40  0.62     NaN       NaN     No   15.8263\n",
              "25  9.911111   17.2109    1014.20  0.66     NaN       NaN     No   15.8263\n",
              "26  11.183333  10.8192    1008.71  0.80     NaN       NaN     No   14.9569\n",
              "27  7.155556   11.0768    1014.47  0.79     NaN       NaN     No   15.8263\n",
              "28  6.111111   6.6493     1014.45  0.82     NaN        8.0    Yes  15.8263\n",
              "29  6.788889   13.0088    1014.49  0.83     NaN        1.0    No   14.9569\n",
              "30  7.261111   11.1734    1014.52  0.85     NaN       NaN     No   6.1985 \n",
              "31  7.800000   12.8156    1014.16  0.83     NaN       NaN     No   8.0500 \n",
              "32  9.872222   13.7494    1014.24  0.78     NaN       NaN     No   9.9820 \n",
              "33  12.222222  15.6331    1014.25  0.72     NaN       NaN     No   9.9820 \n",
              "34  15.094444  17.5490    1013.96  0.61     NaN       NaN     No   9.9820 \n",
              "35  17.355556  22.7815    1013.85  0.52     NaN       NaN     No   9.9820 \n",
              "36  19.005556  23.8924    1013.04  0.46     NaN       NaN     No   9.9820 \n",
              "37  20.044444  28.3682    1012.22  0.40     NaN       NaN     No   9.9820 \n",
              "38  21.050000  26.9031    1011.44  0.40     NaN       NaN     No   10.3523\n",
              "39  21.183333  25.6956    1010.52  0.37     NaN       NaN     No   9.9820 \n",
              "40  20.116667  25.3092    1009.83  0.40     NaN       NaN     No   9.9820 \n",
              "41  20.216667  18.1125    1009.26  0.36     NaN       NaN     No   10.3523\n",
              "42  20.000000  23.4255    1008.76  0.43     NaN       NaN     No   9.9820 \n",
              "43  17.800000  20.0445    1008.36  0.50     NaN       NaN     No   11.2056\n",
              "44  16.061111  21.3969    1008.11  0.53     NaN       NaN     No   9.9820 \n",
              "45  15.022222  21.3808    1008.15  0.55     NaN       NaN     No   9.9820 \n",
              "46  14.422222  20.0123    1007.85  0.58     NaN       NaN     No   15.8263\n",
              "47  14.255556  16.5025    1007.89  0.59     NaN       NaN     No   14.9569\n",
              "48  13.772222  17.0982    1007.36  0.60     NaN       NaN     No   15.8263\n",
              "49  13.283333  14.3612    1007.26  0.63     NaN       NaN     No   15.8263"
            ]
          },
          "metadata": {
            "tags": []
          },
          "execution_count": 74
        }
      ]
    },
    {
      "cell_type": "code",
      "metadata": {
        "id": "kKbMxMhCmV1I",
        "outputId": "5d40ae1e-e7dc-44c8-90b7-a23ba3f69a8e"
      },
      "source": [
        "plot_outlier(wd_df['visikm'])"
      ],
      "execution_count": null,
      "outputs": [
        {
          "output_type": "display_data",
          "data": {
            "image/png": "[encoded data removed]",
            "text/plain": [
              "<Figure size 1800x432 with 1 Axes>"
            ]
          },
          "metadata": {
            "tags": [],
            "needs_background": "light"
          }
        }
      ]
    },
    {
      "cell_type": "code",
      "metadata": {
        "id": "_482pvzfmV1I",
        "outputId": "d826ba06-4793-423d-ba68-f102d9fe4b71"
      },
      "source": [
        "plot_dist(wd_df, {\"tempC\",\"wspeedkmh\",\"pressmb\",\"visikm\",\"humidity\"})\n",
        "# seams nicely normalised..."
      ],
      "execution_count": null,
      "outputs": [
        {
          "output_type": "stream",
          "text": [
            "C:\\Users\\gazel\\anaconda3\\lib\\site-packages\\seaborn\\distributions.py:2551: FutureWarning: `distplot` is a deprecated function and will be removed in a future version. Please adapt your code to use either `displot` (a figure-level function with similar flexibility) or `histplot` (an axes-level function for histograms).\n",
            "  warnings.warn(msg, FutureWarning)\n",
            "C:\\Users\\gazel\\anaconda3\\lib\\site-packages\\seaborn\\distributions.py:2551: FutureWarning: `distplot` is a deprecated function and will be removed in a future version. Please adapt your code to use either `displot` (a figure-level function with similar flexibility) or `histplot` (an axes-level function for histograms).\n",
            "  warnings.warn(msg, FutureWarning)\n",
            "C:\\Users\\gazel\\anaconda3\\lib\\site-packages\\seaborn\\distributions.py:2551: FutureWarning: `distplot` is a deprecated function and will be removed in a future version. Please adapt your code to use either `displot` (a figure-level function with similar flexibility) or `histplot` (an axes-level function for histograms).\n",
            "  warnings.warn(msg, FutureWarning)\n",
            "C:\\Users\\gazel\\anaconda3\\lib\\site-packages\\seaborn\\distributions.py:2551: FutureWarning: `distplot` is a deprecated function and will be removed in a future version. Please adapt your code to use either `displot` (a figure-level function with similar flexibility) or `histplot` (an axes-level function for histograms).\n",
            "  warnings.warn(msg, FutureWarning)\n",
            "C:\\Users\\gazel\\anaconda3\\lib\\site-packages\\seaborn\\distributions.py:2551: FutureWarning: `distplot` is a deprecated function and will be removed in a future version. Please adapt your code to use either `displot` (a figure-level function with similar flexibility) or `histplot` (an axes-level function for histograms).\n",
            "  warnings.warn(msg, FutureWarning)\n"
          ],
          "name": "stderr"
        },
        {
          "output_type": "display_data",
          "data": {
            "image/png": "[encoded data removed]",
            "text/plain": [
              "<Figure size 1800x1440 with 5 Axes>"
            ]
          },
          "metadata": {
            "tags": [],
            "needs_background": "light"
          }
        }
      ]
    },
    {
      "cell_type": "code",
      "metadata": {
        "id": "hlCQm6_zmV1J",
        "outputId": "835fd117-b499-40f9-ff5f-1886e3aac25f"
      },
      "source": [
        "countplot(wd_df,{\"tempC\",\"wspeedkmh\",\"pressmb\",\"visikm\",\"humidity\"})\n",
        "# too many different values to be able to convert to category"
      ],
      "execution_count": null,
      "outputs": [
        {
          "output_type": "stream",
          "text": [
            "C:\\Users\\gazel\\anaconda3\\lib\\site-packages\\seaborn\\_decorators.py:36: FutureWarning: Pass the following variable as a keyword arg: x. From version 0.12, the only valid positional argument will be `data`, and passing other arguments without an explicit keyword will result in an error or misinterpretation.\n",
            "  warnings.warn(\n",
            "C:\\Users\\gazel\\anaconda3\\lib\\site-packages\\seaborn\\_decorators.py:36: FutureWarning: Pass the following variable as a keyword arg: x. From version 0.12, the only valid positional argument will be `data`, and passing other arguments without an explicit keyword will result in an error or misinterpretation.\n",
            "  warnings.warn(\n",
            "C:\\Users\\gazel\\anaconda3\\lib\\site-packages\\seaborn\\_decorators.py:36: FutureWarning: Pass the following variable as a keyword arg: x. From version 0.12, the only valid positional argument will be `data`, and passing other arguments without an explicit keyword will result in an error or misinterpretation.\n",
            "  warnings.warn(\n",
            "C:\\Users\\gazel\\anaconda3\\lib\\site-packages\\seaborn\\_decorators.py:36: FutureWarning: Pass the following variable as a keyword arg: x. From version 0.12, the only valid positional argument will be `data`, and passing other arguments without an explicit keyword will result in an error or misinterpretation.\n",
            "  warnings.warn(\n",
            "C:\\Users\\gazel\\anaconda3\\lib\\site-packages\\seaborn\\_decorators.py:36: FutureWarning: Pass the following variable as a keyword arg: x. From version 0.12, the only valid positional argument will be `data`, and passing other arguments without an explicit keyword will result in an error or misinterpretation.\n",
            "  warnings.warn(\n"
          ],
          "name": "stderr"
        },
        {
          "output_type": "display_data",
          "data": {
            "image/png": "[encoded data removed]",
            "text/plain": [
              "<Figure size 1800x1800 with 5 Axes>"
            ]
          },
          "metadata": {
            "tags": [],
            "needs_background": "light"
          }
        }
      ]
    },
    {
      "cell_type": "code",
      "metadata": {
        "id": "37DnqC49mV1J",
        "outputId": "382b5bbf-8011-4d35-c55d-cd50b0cc9c5c"
      },
      "source": [
        "testRelPrel(wd_df)\n",
        "#Code Checks sum of maximum values against eachother. "
      ],
      "execution_count": null,
      "outputs": [
        {
          "output_type": "stream",
          "text": [
            "tempC wspeedkmh many-to-many\n",
            "tempC pressmb many-to-one\n",
            "tempC humidity many-to-many\n",
            "tempC Sunshine many-to-many\n",
            "tempC Cloud one-to-many\n",
            "tempC rain many-to-many\n",
            "tempC visikm many-to-many\n",
            "wspeedkmh tempC many-to-many\n",
            "wspeedkmh pressmb many-to-one\n",
            "wspeedkmh humidity many-to-many\n",
            "wspeedkmh Sunshine many-to-many\n",
            "wspeedkmh Cloud many-to-many\n",
            "wspeedkmh rain many-to-many\n",
            "wspeedkmh visikm many-to-many\n",
            "pressmb tempC one-to-many\n",
            "pressmb wspeedkmh one-to-many\n",
            "pressmb humidity one-to-many\n",
            "pressmb Sunshine many-to-many\n",
            "pressmb Cloud one-to-many\n",
            "pressmb rain one-to-many\n",
            "pressmb visikm one-to-many\n",
            "humidity tempC many-to-many\n",
            "humidity wspeedkmh many-to-many\n",
            "humidity pressmb many-to-one\n",
            "humidity Sunshine many-to-many\n",
            "humidity Cloud many-to-many\n",
            "humidity rain many-to-many\n",
            "humidity visikm many-to-many\n",
            "Sunshine tempC many-to-many\n",
            "Sunshine wspeedkmh many-to-many\n",
            "Sunshine pressmb many-to-many\n",
            "Sunshine humidity many-to-many\n",
            "Sunshine Cloud many-to-many\n",
            "Sunshine rain many-to-many\n",
            "Sunshine visikm many-to-many\n",
            "Cloud tempC many-to-one\n",
            "Cloud wspeedkmh many-to-many\n",
            "Cloud pressmb many-to-one\n",
            "Cloud humidity many-to-many\n",
            "Cloud Sunshine many-to-many\n",
            "Cloud rain many-to-many\n",
            "Cloud visikm many-to-many\n",
            "rain tempC many-to-many\n",
            "rain wspeedkmh many-to-many\n",
            "rain pressmb many-to-one\n",
            "rain humidity many-to-many\n",
            "rain Sunshine many-to-many\n",
            "rain Cloud many-to-many\n",
            "rain visikm many-to-many\n",
            "visikm tempC many-to-many\n",
            "visikm wspeedkmh many-to-many\n",
            "visikm pressmb many-to-one\n",
            "visikm humidity many-to-many\n",
            "visikm Sunshine many-to-many\n",
            "visikm Cloud many-to-many\n",
            "visikm rain many-to-many\n"
          ],
          "name": "stdout"
        }
      ]
    },
    {
      "cell_type": "markdown",
      "metadata": {
        "id": "buX04Ow2S0pQ"
      },
      "source": [
        "## Data cleaning and feature engineering\n",
        "\n",
        "**Q** Are there any missing values? If yes, what is your interpretation of the reason(s) and what type of missing values? (HINT! MCAR;MAR;NMAR)\n",
        "\n",
        "Sunshine can totally get dropped, no values what so ever. And it is redundant though : IF clouds == 0; THEN sunshine = TRUE;\n",
        "\n",
        "Clouds Could either kindof get restored if broken from temp, press and humidity... like a RAID5 or 6 parity byte restore  \n",
        "less wind... warm(a few days in row) + humidity(decreasing) = sunny\n",
        "\n",
        "rain = often cloudy.... if works\n",
        "\n",
        "We think we will drop it for now...\n",
        "\n",
        "\n",
        "\n",
        "**C** Handle any missing values in a suitable way (if there are none, you don't need to do anything here). Make sure you changes are saved in your dataframe.\n",
        "\n",
        "**Q** Are there any variables that need further cleaning/feature engineering such as changing dtype/calculations to improve categorial features etc? \n",
        "\n",
        "Changed the rain to a \"weird\" bool of either 0 or 1. And -1 for NaN makes it easy to sort that particular row out, in case of need. \n",
        "I am not so sure about if there is a needed to do it this \n",
        "\n",
        "**Q** IS there a need fo standardization/normalization or scaling of variables? Why/why not? (Motivate for each of them)\n",
        "\n",
        "Not sure the mening by the term scaling but the mantissa of humidity to display it correctly it should be : $$Humidity = h \\times 10^{2}$$ \n",
        "but if we change it here we divide it later if we s´need to use it for calculations. So it is easier to just \n",
        "\n",
        "**C** If yes on any of the above, fix this column and make sure to make the changes on your existing dataframe.\n",
        "\n"
      ]
    },
    {
      "cell_type": "code",
      "metadata": {
        "id": "m7sjmShGmV1K"
      },
      "source": [
        "wd_df = wd_df.drop(['Sunshine'], axis=1)\n",
        "wd_df = wd_df.drop(['Cloud'], axis=1)"
      ],
      "execution_count": null,
      "outputs": []
    },
    {
      "cell_type": "code",
      "metadata": {
        "id": "rzwchbJqmV1K"
      },
      "source": [
        "def convert_rain(data):\n",
        "    if data == 'Yes':\n",
        "        return 1\n",
        "    elif data == 'No':\n",
        "        return 0\n",
        "    else:\n",
        "        return -1"
      ],
      "execution_count": null,
      "outputs": []
    },
    {
      "cell_type": "code",
      "metadata": {
        "id": "nZKQryRDmV1K",
        "outputId": "b5d331bc-54b6-4416-a198-40bee9e1ebbb"
      },
      "source": [
        "wd_df['rainnum'] = wd_df.rain.apply(convert_rain).astype('int')\n",
        "wd_df = wd_df.drop(['rain'], axis=1)\n",
        "wd_df\n"
      ],
      "execution_count": null,
      "outputs": [
        {
          "output_type": "execute_result",
          "data": {
            "text/html": [
              "<div>\n",
              "<style scoped>\n",
              "    .dataframe tbody tr th:only-of-type {\n",
              "        vertical-align: middle;\n",
              "    }\n",
              "\n",
              "    .dataframe tbody tr th {\n",
              "        vertical-align: top;\n",
              "    }\n",
              "\n",
              "    .dataframe thead th {\n",
              "        text-align: right;\n",
              "    }\n",
              "</style>\n",
              "<table border=\"1\" class=\"dataframe\">\n",
              "  <thead>\n",
              "    <tr style=\"text-align: right;\">\n",
              "      <th></th>\n",
              "      <th>tempC</th>\n",
              "      <th>wspeedkmh</th>\n",
              "      <th>pressmb</th>\n",
              "      <th>humidity</th>\n",
              "      <th>visikm</th>\n",
              "      <th>rainnum</th>\n",
              "    </tr>\n",
              "  </thead>\n",
              "  <tbody>\n",
              "    <tr>\n",
              "      <th>0</th>\n",
              "      <td>9.472222</td>\n",
              "      <td>14.1197</td>\n",
              "      <td>1015.13</td>\n",
              "      <td>0.89</td>\n",
              "      <td>15.8263</td>\n",
              "      <td>0</td>\n",
              "    </tr>\n",
              "    <tr>\n",
              "      <th>1</th>\n",
              "      <td>9.355556</td>\n",
              "      <td>14.2646</td>\n",
              "      <td>1015.63</td>\n",
              "      <td>0.86</td>\n",
              "      <td>15.8263</td>\n",
              "      <td>0</td>\n",
              "    </tr>\n",
              "    <tr>\n",
              "      <th>2</th>\n",
              "      <td>9.377778</td>\n",
              "      <td>3.9284</td>\n",
              "      <td>1015.94</td>\n",
              "      <td>0.89</td>\n",
              "      <td>14.9569</td>\n",
              "      <td>0</td>\n",
              "    </tr>\n",
              "    <tr>\n",
              "      <th>3</th>\n",
              "      <td>8.288889</td>\n",
              "      <td>14.1036</td>\n",
              "      <td>1016.41</td>\n",
              "      <td>0.83</td>\n",
              "      <td>15.8263</td>\n",
              "      <td>0</td>\n",
              "    </tr>\n",
              "    <tr>\n",
              "      <th>4</th>\n",
              "      <td>8.755556</td>\n",
              "      <td>11.0446</td>\n",
              "      <td>1016.51</td>\n",
              "      <td>0.83</td>\n",
              "      <td>15.8263</td>\n",
              "      <td>0</td>\n",
              "    </tr>\n",
              "    <tr>\n",
              "      <th>5</th>\n",
              "      <td>9.222222</td>\n",
              "      <td>13.9587</td>\n",
              "      <td>1016.66</td>\n",
              "      <td>0.85</td>\n",
              "      <td>14.9569</td>\n",
              "      <td>0</td>\n",
              "    </tr>\n",
              "    <tr>\n",
              "      <th>6</th>\n",
              "      <td>7.733333</td>\n",
              "      <td>12.3648</td>\n",
              "      <td>1016.72</td>\n",
              "      <td>0.95</td>\n",
              "      <td>9.9820</td>\n",
              "      <td>0</td>\n",
              "    </tr>\n",
              "    <tr>\n",
              "      <th>7</th>\n",
              "      <td>8.772222</td>\n",
              "      <td>14.1519</td>\n",
              "      <td>1016.84</td>\n",
              "      <td>0.89</td>\n",
              "      <td>9.9820</td>\n",
              "      <td>0</td>\n",
              "    </tr>\n",
              "    <tr>\n",
              "      <th>8</th>\n",
              "      <td>10.822222</td>\n",
              "      <td>11.3183</td>\n",
              "      <td>1017.37</td>\n",
              "      <td>0.82</td>\n",
              "      <td>9.9820</td>\n",
              "      <td>0</td>\n",
              "    </tr>\n",
              "    <tr>\n",
              "      <th>9</th>\n",
              "      <td>13.772222</td>\n",
              "      <td>12.5258</td>\n",
              "      <td>1017.22</td>\n",
              "      <td>0.72</td>\n",
              "      <td>9.9820</td>\n",
              "      <td>1</td>\n",
              "    </tr>\n",
              "    <tr>\n",
              "      <th>10</th>\n",
              "      <td>16.016667</td>\n",
              "      <td>17.5651</td>\n",
              "      <td>1017.42</td>\n",
              "      <td>0.67</td>\n",
              "      <td>11.2056</td>\n",
              "      <td>0</td>\n",
              "    </tr>\n",
              "    <tr>\n",
              "      <th>11</th>\n",
              "      <td>17.144444</td>\n",
              "      <td>19.7869</td>\n",
              "      <td>1017.74</td>\n",
              "      <td>0.54</td>\n",
              "      <td>11.4471</td>\n",
              "      <td>1</td>\n",
              "    </tr>\n",
              "    <tr>\n",
              "      <th>12</th>\n",
              "      <td>17.800000</td>\n",
              "      <td>21.9443</td>\n",
              "      <td>1017.59</td>\n",
              "      <td>0.55</td>\n",
              "      <td>11.2700</td>\n",
              "      <td>1</td>\n",
              "    </tr>\n",
              "    <tr>\n",
              "      <th>13</th>\n",
              "      <td>17.333333</td>\n",
              "      <td>20.6885</td>\n",
              "      <td>1017.48</td>\n",
              "      <td>0.51</td>\n",
              "      <td>11.2700</td>\n",
              "      <td>1</td>\n",
              "    </tr>\n",
              "    <tr>\n",
              "      <th>14</th>\n",
              "      <td>18.877778</td>\n",
              "      <td>15.3755</td>\n",
              "      <td>1017.17</td>\n",
              "      <td>0.47</td>\n",
              "      <td>11.4471</td>\n",
              "      <td>-1</td>\n",
              "    </tr>\n",
              "    <tr>\n",
              "      <th>15</th>\n",
              "      <td>18.911111</td>\n",
              "      <td>10.4006</td>\n",
              "      <td>1016.47</td>\n",
              "      <td>0.46</td>\n",
              "      <td>11.2700</td>\n",
              "      <td>0</td>\n",
              "    </tr>\n",
              "    <tr>\n",
              "      <th>16</th>\n",
              "      <td>15.388889</td>\n",
              "      <td>14.4095</td>\n",
              "      <td>1016.15</td>\n",
              "      <td>0.60</td>\n",
              "      <td>11.2700</td>\n",
              "      <td>1</td>\n",
              "    </tr>\n",
              "    <tr>\n",
              "      <th>17</th>\n",
              "      <td>15.550000</td>\n",
              "      <td>11.1573</td>\n",
              "      <td>1016.17</td>\n",
              "      <td>0.63</td>\n",
              "      <td>11.4471</td>\n",
              "      <td>1</td>\n",
              "    </tr>\n",
              "    <tr>\n",
              "      <th>18</th>\n",
              "      <td>14.255556</td>\n",
              "      <td>8.5169</td>\n",
              "      <td>1015.82</td>\n",
              "      <td>0.69</td>\n",
              "      <td>11.2056</td>\n",
              "      <td>0</td>\n",
              "    </tr>\n",
              "    <tr>\n",
              "      <th>19</th>\n",
              "      <td>13.144444</td>\n",
              "      <td>7.6314</td>\n",
              "      <td>1015.83</td>\n",
              "      <td>0.70</td>\n",
              "      <td>11.2056</td>\n",
              "      <td>0</td>\n",
              "    </tr>\n",
              "    <tr>\n",
              "      <th>20</th>\n",
              "      <td>11.550000</td>\n",
              "      <td>7.3899</td>\n",
              "      <td>1015.85</td>\n",
              "      <td>0.77</td>\n",
              "      <td>11.0285</td>\n",
              "      <td>0</td>\n",
              "    </tr>\n",
              "    <tr>\n",
              "      <th>21</th>\n",
              "      <td>11.183333</td>\n",
              "      <td>4.9266</td>\n",
              "      <td>1015.77</td>\n",
              "      <td>0.76</td>\n",
              "      <td>9.9820</td>\n",
              "      <td>0</td>\n",
              "    </tr>\n",
              "    <tr>\n",
              "      <th>22</th>\n",
              "      <td>10.116667</td>\n",
              "      <td>6.6493</td>\n",
              "      <td>1015.40</td>\n",
              "      <td>0.79</td>\n",
              "      <td>15.8263</td>\n",
              "      <td>0</td>\n",
              "    </tr>\n",
              "    <tr>\n",
              "      <th>23</th>\n",
              "      <td>10.200000</td>\n",
              "      <td>3.9284</td>\n",
              "      <td>1015.51</td>\n",
              "      <td>0.77</td>\n",
              "      <td>14.9569</td>\n",
              "      <td>0</td>\n",
              "    </tr>\n",
              "    <tr>\n",
              "      <th>24</th>\n",
              "      <td>10.422222</td>\n",
              "      <td>16.9855</td>\n",
              "      <td>1014.40</td>\n",
              "      <td>0.62</td>\n",
              "      <td>15.8263</td>\n",
              "      <td>0</td>\n",
              "    </tr>\n",
              "    <tr>\n",
              "      <th>25</th>\n",
              "      <td>9.911111</td>\n",
              "      <td>17.2109</td>\n",
              "      <td>1014.20</td>\n",
              "      <td>0.66</td>\n",
              "      <td>15.8263</td>\n",
              "      <td>0</td>\n",
              "    </tr>\n",
              "    <tr>\n",
              "      <th>26</th>\n",
              "      <td>11.183333</td>\n",
              "      <td>10.8192</td>\n",
              "      <td>1008.71</td>\n",
              "      <td>0.80</td>\n",
              "      <td>14.9569</td>\n",
              "      <td>0</td>\n",
              "    </tr>\n",
              "    <tr>\n",
              "      <th>27</th>\n",
              "      <td>7.155556</td>\n",
              "      <td>11.0768</td>\n",
              "      <td>1014.47</td>\n",
              "      <td>0.79</td>\n",
              "      <td>15.8263</td>\n",
              "      <td>0</td>\n",
              "    </tr>\n",
              "    <tr>\n",
              "      <th>28</th>\n",
              "      <td>6.111111</td>\n",
              "      <td>6.6493</td>\n",
              "      <td>1014.45</td>\n",
              "      <td>0.82</td>\n",
              "      <td>15.8263</td>\n",
              "      <td>1</td>\n",
              "    </tr>\n",
              "    <tr>\n",
              "      <th>29</th>\n",
              "      <td>6.788889</td>\n",
              "      <td>13.0088</td>\n",
              "      <td>1014.49</td>\n",
              "      <td>0.83</td>\n",
              "      <td>14.9569</td>\n",
              "      <td>0</td>\n",
              "    </tr>\n",
              "    <tr>\n",
              "      <th>30</th>\n",
              "      <td>7.261111</td>\n",
              "      <td>11.1734</td>\n",
              "      <td>1014.52</td>\n",
              "      <td>0.85</td>\n",
              "      <td>6.1985</td>\n",
              "      <td>0</td>\n",
              "    </tr>\n",
              "    <tr>\n",
              "      <th>31</th>\n",
              "      <td>7.800000</td>\n",
              "      <td>12.8156</td>\n",
              "      <td>1014.16</td>\n",
              "      <td>0.83</td>\n",
              "      <td>8.0500</td>\n",
              "      <td>0</td>\n",
              "    </tr>\n",
              "    <tr>\n",
              "      <th>32</th>\n",
              "      <td>9.872222</td>\n",
              "      <td>13.7494</td>\n",
              "      <td>1014.24</td>\n",
              "      <td>0.78</td>\n",
              "      <td>9.9820</td>\n",
              "      <td>0</td>\n",
              "    </tr>\n",
              "    <tr>\n",
              "      <th>33</th>\n",
              "      <td>12.222222</td>\n",
              "      <td>15.6331</td>\n",
              "      <td>1014.25</td>\n",
              "      <td>0.72</td>\n",
              "      <td>9.9820</td>\n",
              "      <td>0</td>\n",
              "    </tr>\n",
              "    <tr>\n",
              "      <th>34</th>\n",
              "      <td>15.094444</td>\n",
              "      <td>17.5490</td>\n",
              "      <td>1013.96</td>\n",
              "      <td>0.61</td>\n",
              "      <td>9.9820</td>\n",
              "      <td>0</td>\n",
              "    </tr>\n",
              "    <tr>\n",
              "      <th>35</th>\n",
              "      <td>17.355556</td>\n",
              "      <td>22.7815</td>\n",
              "      <td>1013.85</td>\n",
              "      <td>0.52</td>\n",
              "      <td>9.9820</td>\n",
              "      <td>0</td>\n",
              "    </tr>\n",
              "    <tr>\n",
              "      <th>36</th>\n",
              "      <td>19.005556</td>\n",
              "      <td>23.8924</td>\n",
              "      <td>1013.04</td>\n",
              "      <td>0.46</td>\n",
              "      <td>9.9820</td>\n",
              "      <td>0</td>\n",
              "    </tr>\n",
              "    <tr>\n",
              "      <th>37</th>\n",
              "      <td>20.044444</td>\n",
              "      <td>28.3682</td>\n",
              "      <td>1012.22</td>\n",
              "      <td>0.40</td>\n",
              "      <td>9.9820</td>\n",
              "      <td>0</td>\n",
              "    </tr>\n",
              "    <tr>\n",
              "      <th>38</th>\n",
              "      <td>21.050000</td>\n",
              "      <td>26.9031</td>\n",
              "      <td>1011.44</td>\n",
              "      <td>0.40</td>\n",
              "      <td>10.3523</td>\n",
              "      <td>0</td>\n",
              "    </tr>\n",
              "    <tr>\n",
              "      <th>39</th>\n",
              "      <td>21.183333</td>\n",
              "      <td>25.6956</td>\n",
              "      <td>1010.52</td>\n",
              "      <td>0.37</td>\n",
              "      <td>9.9820</td>\n",
              "      <td>0</td>\n",
              "    </tr>\n",
              "    <tr>\n",
              "      <th>40</th>\n",
              "      <td>20.116667</td>\n",
              "      <td>25.3092</td>\n",
              "      <td>1009.83</td>\n",
              "      <td>0.40</td>\n",
              "      <td>9.9820</td>\n",
              "      <td>0</td>\n",
              "    </tr>\n",
              "    <tr>\n",
              "      <th>41</th>\n",
              "      <td>20.216667</td>\n",
              "      <td>18.1125</td>\n",
              "      <td>1009.26</td>\n",
              "      <td>0.36</td>\n",
              "      <td>10.3523</td>\n",
              "      <td>0</td>\n",
              "    </tr>\n",
              "    <tr>\n",
              "      <th>42</th>\n",
              "      <td>20.000000</td>\n",
              "      <td>23.4255</td>\n",
              "      <td>1008.76</td>\n",
              "      <td>0.43</td>\n",
              "      <td>9.9820</td>\n",
              "      <td>0</td>\n",
              "    </tr>\n",
              "    <tr>\n",
              "      <th>43</th>\n",
              "      <td>17.800000</td>\n",
              "      <td>20.0445</td>\n",
              "      <td>1008.36</td>\n",
              "      <td>0.50</td>\n",
              "      <td>11.2056</td>\n",
              "      <td>0</td>\n",
              "    </tr>\n",
              "    <tr>\n",
              "      <th>44</th>\n",
              "      <td>16.061111</td>\n",
              "      <td>21.3969</td>\n",
              "      <td>1008.11</td>\n",
              "      <td>0.53</td>\n",
              "      <td>9.9820</td>\n",
              "      <td>0</td>\n",
              "    </tr>\n",
              "    <tr>\n",
              "      <th>45</th>\n",
              "      <td>15.022222</td>\n",
              "      <td>21.3808</td>\n",
              "      <td>1008.15</td>\n",
              "      <td>0.55</td>\n",
              "      <td>9.9820</td>\n",
              "      <td>0</td>\n",
              "    </tr>\n",
              "    <tr>\n",
              "      <th>46</th>\n",
              "      <td>14.422222</td>\n",
              "      <td>20.0123</td>\n",
              "      <td>1007.85</td>\n",
              "      <td>0.58</td>\n",
              "      <td>15.8263</td>\n",
              "      <td>0</td>\n",
              "    </tr>\n",
              "    <tr>\n",
              "      <th>47</th>\n",
              "      <td>14.255556</td>\n",
              "      <td>16.5025</td>\n",
              "      <td>1007.89</td>\n",
              "      <td>0.59</td>\n",
              "      <td>14.9569</td>\n",
              "      <td>0</td>\n",
              "    </tr>\n",
              "    <tr>\n",
              "      <th>48</th>\n",
              "      <td>13.772222</td>\n",
              "      <td>17.0982</td>\n",
              "      <td>1007.36</td>\n",
              "      <td>0.60</td>\n",
              "      <td>15.8263</td>\n",
              "      <td>0</td>\n",
              "    </tr>\n",
              "    <tr>\n",
              "      <th>49</th>\n",
              "      <td>13.283333</td>\n",
              "      <td>14.3612</td>\n",
              "      <td>1007.26</td>\n",
              "      <td>0.63</td>\n",
              "      <td>15.8263</td>\n",
              "      <td>0</td>\n",
              "    </tr>\n",
              "  </tbody>\n",
              "</table>\n",
              "</div>"
            ],
            "text/plain": [
              "        tempC  wspeedkmh  pressmb  humidity   visikm  rainnum\n",
              "0   9.472222   14.1197    1015.13  0.89      15.8263  0      \n",
              "1   9.355556   14.2646    1015.63  0.86      15.8263  0      \n",
              "2   9.377778   3.9284     1015.94  0.89      14.9569  0      \n",
              "3   8.288889   14.1036    1016.41  0.83      15.8263  0      \n",
              "4   8.755556   11.0446    1016.51  0.83      15.8263  0      \n",
              "5   9.222222   13.9587    1016.66  0.85      14.9569  0      \n",
              "6   7.733333   12.3648    1016.72  0.95      9.9820   0      \n",
              "7   8.772222   14.1519    1016.84  0.89      9.9820   0      \n",
              "8   10.822222  11.3183    1017.37  0.82      9.9820   0      \n",
              "9   13.772222  12.5258    1017.22  0.72      9.9820   1      \n",
              "10  16.016667  17.5651    1017.42  0.67      11.2056  0      \n",
              "11  17.144444  19.7869    1017.74  0.54      11.4471  1      \n",
              "12  17.800000  21.9443    1017.59  0.55      11.2700  1      \n",
              "13  17.333333  20.6885    1017.48  0.51      11.2700  1      \n",
              "14  18.877778  15.3755    1017.17  0.47      11.4471 -1      \n",
              "15  18.911111  10.4006    1016.47  0.46      11.2700  0      \n",
              "16  15.388889  14.4095    1016.15  0.60      11.2700  1      \n",
              "17  15.550000  11.1573    1016.17  0.63      11.4471  1      \n",
              "18  14.255556  8.5169     1015.82  0.69      11.2056  0      \n",
              "19  13.144444  7.6314     1015.83  0.70      11.2056  0      \n",
              "20  11.550000  7.3899     1015.85  0.77      11.0285  0      \n",
              "21  11.183333  4.9266     1015.77  0.76      9.9820   0      \n",
              "22  10.116667  6.6493     1015.40  0.79      15.8263  0      \n",
              "23  10.200000  3.9284     1015.51  0.77      14.9569  0      \n",
              "24  10.422222  16.9855    1014.40  0.62      15.8263  0      \n",
              "25  9.911111   17.2109    1014.20  0.66      15.8263  0      \n",
              "26  11.183333  10.8192    1008.71  0.80      14.9569  0      \n",
              "27  7.155556   11.0768    1014.47  0.79      15.8263  0      \n",
              "28  6.111111   6.6493     1014.45  0.82      15.8263  1      \n",
              "29  6.788889   13.0088    1014.49  0.83      14.9569  0      \n",
              "30  7.261111   11.1734    1014.52  0.85      6.1985   0      \n",
              "31  7.800000   12.8156    1014.16  0.83      8.0500   0      \n",
              "32  9.872222   13.7494    1014.24  0.78      9.9820   0      \n",
              "33  12.222222  15.6331    1014.25  0.72      9.9820   0      \n",
              "34  15.094444  17.5490    1013.96  0.61      9.9820   0      \n",
              "35  17.355556  22.7815    1013.85  0.52      9.9820   0      \n",
              "36  19.005556  23.8924    1013.04  0.46      9.9820   0      \n",
              "37  20.044444  28.3682    1012.22  0.40      9.9820   0      \n",
              "38  21.050000  26.9031    1011.44  0.40      10.3523  0      \n",
              "39  21.183333  25.6956    1010.52  0.37      9.9820   0      \n",
              "40  20.116667  25.3092    1009.83  0.40      9.9820   0      \n",
              "41  20.216667  18.1125    1009.26  0.36      10.3523  0      \n",
              "42  20.000000  23.4255    1008.76  0.43      9.9820   0      \n",
              "43  17.800000  20.0445    1008.36  0.50      11.2056  0      \n",
              "44  16.061111  21.3969    1008.11  0.53      9.9820   0      \n",
              "45  15.022222  21.3808    1008.15  0.55      9.9820   0      \n",
              "46  14.422222  20.0123    1007.85  0.58      15.8263  0      \n",
              "47  14.255556  16.5025    1007.89  0.59      14.9569  0      \n",
              "48  13.772222  17.0982    1007.36  0.60      15.8263  0      \n",
              "49  13.283333  14.3612    1007.26  0.63      15.8263  0      "
            ]
          },
          "metadata": {
            "tags": []
          },
          "execution_count": 81
        }
      ]
    },
    {
      "cell_type": "code",
      "metadata": {
        "id": "UZ0-MtJAmV1M",
        "outputId": "21436166-16c8-460d-f121-d5122107b3a3"
      },
      "source": [
        "null_counts = wd_df.isnull().sum()\n",
        "null_counts[null_counts > 0].sort_values(ascending=False) "
      ],
      "execution_count": null,
      "outputs": [
        {
          "output_type": "execute_result",
          "data": {
            "text/plain": [
              "Series([], dtype: int64)"
            ]
          },
          "metadata": {
            "tags": []
          },
          "execution_count": 82
        }
      ]
    },
    {
      "cell_type": "code",
      "metadata": {
        "id": "P9wwmBV_mV1M"
      },
      "source": [
        ""
      ],
      "execution_count": null,
      "outputs": []
    },
    {
      "cell_type": "markdown",
      "metadata": {
        "id": "jw64S9VPS0pQ"
      },
      "source": [
        "## Linear Regression\n",
        "\n",
        "### Your first task in regards to modeling is to do a simple linear regression, using only two of the variables present in the dataset.\n",
        "\n",
        "To help you further the codeblock below show a heatmap of the correlation between the different varaibles. Also, another codeblock show a pairplot that visualize the relationsship between pairwise variables, it is coded using the seaborn library.\n",
        "\n"
      ]
    },
    {
      "cell_type": "code",
      "metadata": {
        "colab": {
          "base_uri": "https://localhost:8080/",
          "height": 356
        },
        "id": "WD1O1swFS0pQ",
        "outputId": "72e6f0d8-855c-4f03-d99f-36d9e0d09ba5"
      },
      "source": [
        "#seaborn heatmap\n",
        "corrMatrix = wd_df.corr()\n",
        "sns.heatmap(corrMatrix, annot=True)\n",
        "plt.show()"
      ],
      "execution_count": null,
      "outputs": [
        {
          "output_type": "display_data",
          "data": {
            "image/png": "[encoded data removed]",
            "text/plain": [
              "<Figure size 432x288 with 2 Axes>"
            ]
          },
          "metadata": {
            "tags": [],
            "needs_background": "light"
          }
        }
      ]
    },
    {
      "cell_type": "code",
      "metadata": {
        "colab": {
          "base_uri": "https://localhost:8080/",
          "height": 1000
        },
        "id": "zCaFuVm-S0pR",
        "outputId": "5eed2bb3-2cd6-4910-be5a-3a9e336a59b3"
      },
      "source": [
        "#seaborn pairplot\n",
        "colors = {0:\"#4CA9FF\",1:\"FF4343\",2:\"2FFE64\"}\n",
        "sns.pairplot(wd_df,palette=colors)"
      ],
      "execution_count": null,
      "outputs": [
        {
          "output_type": "execute_result",
          "data": {
            "text/plain": [
              "<seaborn.axisgrid.PairGrid at 0x1dbb7efee80>"
            ]
          },
          "metadata": {
            "tags": []
          },
          "execution_count": 84
        },
        {
          "output_type": "display_data",
          "data": {
            "image/png": "[encoded data removed]",
            "text/plain": [
              "<Figure size 1080x1080 with 42 Axes>"
            ]
          },
          "metadata": {
            "tags": [],
            "needs_background": "light"
          }
        }
      ]
    },
    {
      "cell_type": "code",
      "metadata": {
        "id": "IM4F_tZHmV1O",
        "outputId": "0bc75c4f-28f2-48f5-f6f4-50a7369e22d6"
      },
      "source": [
        "print(wd_df.tempC.max()-wd_df.tempC.min())\n",
        "print(wd_df.humidity.max()-wd_df.humidity.min())\n",
        "print(wd_df.wspeedkmh.max()-wd_df.wspeedkmh.min())"
      ],
      "execution_count": null,
      "outputs": [
        {
          "output_type": "stream",
          "text": [
            "15.072222219\n",
            "0.59\n",
            "24.4398\n"
          ],
          "name": "stdout"
        }
      ]
    },
    {
      "cell_type": "markdown",
      "metadata": {
        "id": "5-B8rV_oS0pR"
      },
      "source": [
        "**Q** Based on the heat map and your visualisations on relationships, which two variables (one for input (x) and another for output (y) would you consider most appropriate for doing a linear regression analysis? \n",
        "\n",
        "HINT! THe table below (from [this page](https://www.statology.org/what-is-a-strong-correlation/))helps you interpret the heatmap. **A must in a linear regression model is to have a linear relationship between the variables!**\n",
        "\n",
        "r in the table below is the Pearson correlation coefficient that pandas calculate for us (Note that it it the absolut value of r, the correclation coefficent can be both negative and positive). Also see [pandas documentation on correlation calculations](https://pandas.pydata.org/pandas-docs/stable/reference/api/pandas.DataFrame.corr.html).\n",
        "\n",
        "| Absolute value of r    | Strength of relationship|        \n",
        "|------------------------|-------------------------|\n",
        "| r < 0.25               |No relationship          |\n",
        "| 0.25 < r < 0.5         |Weak relationship        |\n",
        "| 0.5 < r < 0.75         |Moderate relationship    |\n",
        "| r > 0.75               |Strong relationship      | \n",
        "\n",
        "The first one we whould choose is the tempC and humidity becouse of the heatmap value of -.91 second alternative would probably be to predict from Wspeed that has the correlation of .71 and the scatter plots shows strong linierity on these specific data specimen.\n",
        "\n",
        "**Q** Which column should represent the independent variable, x, and the dependent variable, y (the one you want to predict). In order to get the best possible prediction of y? \n",
        "Motivate your answer\n",
        "\n",
        "The absolute number of the distance for humidity, tempC and windspeed is : $$MAX(tempC,humidity,wspeedkmh)$$\n",
        "and : $$MIN(tempC,humidity,wspeedkmh)$$\n",
        "to get : $$[15.07],[.59],[24.43]$$\n",
        "\n",
        "**C** Investigate if there are any outliers in the two variables you have chosen, if so, handle them in a suitable way. \n",
        "Did this in the cleaning step...\n",
        "\n",
        "**Q** Why did you choose to handle/not handle the outliers in the two variables?\n",
        "\n",
        "Did this in the cleaning step. We could not find any outliers that needed handeling."
      ]
    },
    {
      "cell_type": "markdown",
      "metadata": {
        "id": "2xBp3umbmV1O"
      },
      "source": [
        "### Modeling\n",
        "\n",
        "**C** Assign the correct values to x and y in the codeblock provided below. (NOTE! You should call values().reshape() on x because scikit_learn requires input to be in the form of two dimensional arrays i.e. a numpy array (created by pandas.values() in 2D ()created by numpy.reshape()). Or to be more precise, to have one column and as many rows as necessary. That’s exactly what the argument (-1, 1) of .reshape() specifies. See also [numpy documentation](https://numpy.org/doc/stable/reference/generated/numpy.reshape.html) and [scikit_learn documentation](https://scikit-learn.org/stable/modules/generated/sklearn.linear_model.LinearRegression.html?highlight=linear%20regression#sklearn.linear_model.LinearRegression)\n",
        "\n",
        "The code already visible below imports the correct scikit_learn model (LinearRegression) in order to perform the training. Further, code is provided that performs the splitting of data into training and test and also performs the training on the trainingdataset and prediction on both the test and training datasets. \n",
        "\n",
        "**Q** What does the last three lines in the codeblock below do?"
      ]
    },
    {
      "cell_type": "code",
      "metadata": {
        "colab": {
          "base_uri": "https://localhost:8080/"
        },
        "id": "KT5TlabjS0pR",
        "scrolled": true,
        "outputId": "fe4f089b-a22a-4dbf-a974-a8030b113e7a"
      },
      "source": [
        "#Insert the correct x and y \n",
        "x = wd_df.tempC.to_numpy().reshape(-1,1)\n",
        "y = wd_df['humidity']\n",
        "\n",
        "#Split into traning and testing\n",
        "x_train, x_test, y_train, y_test = train_test_split(x, y, test_size=0.2, random_state=42)\n",
        "\n",
        "#train\n",
        "lr_model = LinearRegression(fit_intercept=True)\n",
        "lr_model.fit(x_train, y_train)\n",
        "\n",
        "#Predict (here done on both test and traingset)\n",
        "y_pred_train = lr_model.predict(x_train)\n",
        "y_pred_test = lr_model.predict(x_test)\n",
        "\n",
        "# intercept = where on the y_axis it is starting \n",
        "theta_0 = lr_model.intercept_\n",
        "# coeffisient = The increase or decrease of value ofer x \n",
        "theta_1 = lr_model.coef_\n",
        "#prints the resulting values \n",
        "theta_0, theta_1"
      ],
      "execution_count": null,
      "outputs": [
        {
          "output_type": "execute_result",
          "data": {
            "text/plain": [
              "(1.1424411188585488, array([-0.03557787]))"
            ]
          },
          "metadata": {
            "tags": []
          },
          "execution_count": 86
        }
      ]
    },
    {
      "cell_type": "markdown",
      "metadata": {
        "id": "1l5zJNTCS0pS"
      },
      "source": [
        "**C** Create a new dataframe with two columns, one with the actual values in the testset and one with the predicted values on the testset. \n",
        "\n",
        "**Q**What is your interpretation of the correctness of your model?\n",
        "\n",
        "By a first visual inspection of the numbers there seams to be a diference of max 15% but mostly aprox 10% test and predict data. The correlation was between theese .91 so that remaining 9 is probably what is ment in the differance     "
      ]
    },
    {
      "cell_type": "code",
      "metadata": {
        "colab": {
          "base_uri": "https://localhost:8080/",
          "height": 419
        },
        "id": "QmIuMu6qS0pS",
        "outputId": "845fed6c-1ae2-4997-fe12-89b28a768e56"
      },
      "source": [
        "df_compare = pd.DataFrame({'test': y_test, 'pred_test': y_pred_test})\n",
        "df_compare"
      ],
      "execution_count": null,
      "outputs": [
        {
          "output_type": "execute_result",
          "data": {
            "text/html": [
              "<div>\n",
              "<style scoped>\n",
              "    .dataframe tbody tr th:only-of-type {\n",
              "        vertical-align: middle;\n",
              "    }\n",
              "\n",
              "    .dataframe tbody tr th {\n",
              "        vertical-align: top;\n",
              "    }\n",
              "\n",
              "    .dataframe thead th {\n",
              "        text-align: right;\n",
              "    }\n",
              "</style>\n",
              "<table border=\"1\" class=\"dataframe\">\n",
              "  <thead>\n",
              "    <tr style=\"text-align: right;\">\n",
              "      <th></th>\n",
              "      <th>test</th>\n",
              "      <th>pred_test</th>\n",
              "    </tr>\n",
              "  </thead>\n",
              "  <tbody>\n",
              "    <tr>\n",
              "      <th>13</th>\n",
              "      <td>0.51</td>\n",
              "      <td>0.525758</td>\n",
              "    </tr>\n",
              "    <tr>\n",
              "      <th>39</th>\n",
              "      <td>0.37</td>\n",
              "      <td>0.388783</td>\n",
              "    </tr>\n",
              "    <tr>\n",
              "      <th>30</th>\n",
              "      <td>0.85</td>\n",
              "      <td>0.884106</td>\n",
              "    </tr>\n",
              "    <tr>\n",
              "      <th>45</th>\n",
              "      <td>0.55</td>\n",
              "      <td>0.607982</td>\n",
              "    </tr>\n",
              "    <tr>\n",
              "      <th>17</th>\n",
              "      <td>0.63</td>\n",
              "      <td>0.589205</td>\n",
              "    </tr>\n",
              "    <tr>\n",
              "      <th>48</th>\n",
              "      <td>0.60</td>\n",
              "      <td>0.652455</td>\n",
              "    </tr>\n",
              "    <tr>\n",
              "      <th>26</th>\n",
              "      <td>0.80</td>\n",
              "      <td>0.744562</td>\n",
              "    </tr>\n",
              "    <tr>\n",
              "      <th>25</th>\n",
              "      <td>0.66</td>\n",
              "      <td>0.789825</td>\n",
              "    </tr>\n",
              "    <tr>\n",
              "      <th>32</th>\n",
              "      <td>0.78</td>\n",
              "      <td>0.791208</td>\n",
              "    </tr>\n",
              "    <tr>\n",
              "      <th>19</th>\n",
              "      <td>0.70</td>\n",
              "      <td>0.674790</td>\n",
              "    </tr>\n",
              "  </tbody>\n",
              "</table>\n",
              "</div>"
            ],
            "text/plain": [
              "    test  pred_test\n",
              "13  0.51  0.525758 \n",
              "39  0.37  0.388783 \n",
              "30  0.85  0.884106 \n",
              "45  0.55  0.607982 \n",
              "17  0.63  0.589205 \n",
              "48  0.60  0.652455 \n",
              "26  0.80  0.744562 \n",
              "25  0.66  0.789825 \n",
              "32  0.78  0.791208 \n",
              "19  0.70  0.674790 "
            ]
          },
          "metadata": {
            "tags": []
          },
          "execution_count": 87
        }
      ]
    },
    {
      "cell_type": "code",
      "metadata": {
        "id": "AXPqyRxYmV1P",
        "outputId": "d6bc444c-c966-498a-beb8-0ea729c2411c"
      },
      "source": [
        "plotRegPrediction(wd_df['humidity'],wd_df['tempC'],'humidity','tempC')"
      ],
      "execution_count": null,
      "outputs": [
        {
          "output_type": "display_data",
          "data": {
            "image/png": "[encoded data removed]",
            "text/plain": [
              "<Figure size 432x288 with 1 Axes>"
            ]
          },
          "metadata": {
            "tags": [],
            "needs_background": "light"
          }
        }
      ]
    },
    {
      "cell_type": "markdown",
      "metadata": {
        "id": "0TNQ-MZiS0pS"
      },
      "source": [
        "**C** Code a visualization that show the result (the straight line created by fitting your model to your training data) in relation to the trainingset and another visualization that show the result in relation to the testset. Use one code cell for each coding."
      ]
    },
    {
      "cell_type": "code",
      "metadata": {
        "id": "OlELbiLKS0pT"
      },
      "source": [
        "#plotRegPrediction(df_compare.pred_test,df_compare.test,'pred_test','test')"
      ],
      "execution_count": null,
      "outputs": []
    },
    {
      "cell_type": "code",
      "metadata": {
        "id": "K3nGEGYQmV1Q",
        "outputId": "45b04b1a-4e39-4911-fc76-609568ea0892"
      },
      "source": [
        "testRegplot(lr_model,x_test,y_test,y_pred_test,'temp','humidity')"
      ],
      "execution_count": null,
      "outputs": [
        {
          "output_type": "display_data",
          "data": {
            "image/png": "[encoded data removed]",
            "text/plain": [
              "<Figure size 432x288 with 1 Axes>"
            ]
          },
          "metadata": {
            "tags": [],
            "needs_background": "light"
          }
        },
        {
          "output_type": "stream",
          "text": [
            "mse 0.003023110903554004\n",
            "rmse 0.05498282371390182\n",
            "r^2 score 0.8430775549673499\n"
          ],
          "name": "stdout"
        }
      ]
    },
    {
      "cell_type": "code",
      "metadata": {
        "colab": {
          "base_uri": "https://localhost:8080/",
          "height": 295
        },
        "id": "jyo90r_HS0pT",
        "outputId": "6035c367-df43-4979-ee81-43d1ada1fb33"
      },
      "source": [
        "#Code for visualising testdata and trained model\n",
        "testRegplot(lr_model,x_train,y_train,y_pred_train,'temp','humidity')"
      ],
      "execution_count": null,
      "outputs": [
        {
          "output_type": "display_data",
          "data": {
            "image/png": "[encoded data removed]",
            "text/plain": [
              "<Figure size 432x288 with 1 Axes>"
            ]
          },
          "metadata": {
            "tags": [],
            "needs_background": "light"
          }
        },
        {
          "output_type": "stream",
          "text": [
            "mse 0.0029116814646958167\n",
            "rmse 0.053959998746254775\n",
            "r^2 score 0.8970218493639797\n"
          ],
          "name": "stdout"
        }
      ]
    },
    {
      "cell_type": "markdown",
      "metadata": {
        "id": "nhLJP29BS0pT"
      },
      "source": [
        "**Q** What do the two above visualisation show?\n",
        "\n",
        "It shows the general direction in how to compare temperature vs humidity\n",
        "A teperature of about 12 degrees meets the line at around the hight of 73% humidity. \n",
        "\n",
        "The scatter seams to tighten up orount the line towards the increesing temperature side.  \n",
        "It is probably more exact on the higher temperatures and not as exact on the other.\n",
        "\n",
        "**Q** Why do we still predict using the training data and not the test data when visualising the result on the testset?\n",
        "\n",
        "There is just a part of data points in there. 20% is what code says it is.\n",
        "\n",
        "**Q** What is the preformance measures of your model? Calculate MSE, R^2 and MRSE on both test and trainingdata using skikit_learn and interpret the result.\n",
        "\n",
        "See scikit_learn library: [MSE/MRSE](https://scikit-learn.org/stable/modules/generated/sklearn.metrics.mean_squared_error.html), #Evaluate on trainingset[r2_score](https://scikit-learn.org/stable/modules/generated/sklearn.metrics.r2_score.html?highlight=r2#sklearn.metrics.r2_score)\n",
        "\n",
        "Evaluate test\n",
        "\n",
        "All values looks best when i swiched between the x and y values from the originally choosen x and y values   \n",
        "\n",
        "x/y switched\n",
        "$$MSE =0.0029116814646958167$$\n",
        "should be close to 0.0\n",
        "$$RMSE =0.053959998746254775$$\n",
        "should be close to 0.0\n",
        "$$r^2_{score} = 0.8970218493639797$$\n",
        "should be close to 1.0\n",
        "\n",
        "\n",
        "compared to x/y original\n",
        "\n",
        "$$MSE= 2.06341690675484$$\n",
        "$$RMSE= 1.4364598521207754$$\n",
        "$$r^2_{score} = 0.8970218493639796$$\n",
        "\n",
        "A thing to note is that both $r^2_{score}$ are the exact same exept for a python rounding error in the vm.\n",
        "\n",
        "Evaluate training\n",
        "\n",
        "for this i am only showing the best of the two tested sets of data.\n",
        "$$MSE = 0.003023110903554004$$ \n",
        "$$RMSE = 0.05498282371390182$$\n",
        "$$r^2_{score} = 0.8430775549673499$$\n",
        "\n",
        "In general the testdata is generally lower "
      ]
    },
    {
      "cell_type": "markdown",
      "metadata": {
        "id": "DYwddAO4mV1R"
      },
      "source": [
        "There is something strange about our r2_score, it is higher on the testset compared to the trainingset. This is against what we have learned, that models always perform better on trainingset compared to testset.\n",
        "\n",
        "**Q** Why might that be? \n",
        "The test_size and random_state variables changes the amount of testvalues and what values in the folowing function.  \n",
        "<code>train_test_split(x, y, test_size=0.2, random_state=42)</code>\n",
        "\n",
        "The $r^2_{score}$ is different because the line is renerated trom the available data. \n",
        "\n",
        "**Q** What can we do to make it better?\n",
        "Add more data to booth to smooth the static noice out a bit. "
      ]
    },
    {
      "cell_type": "markdown",
      "metadata": {
        "id": "Bgt73hE9S0pT"
      },
      "source": [
        "In order to see how or model performs we can also build a distribution plot of the actual values and the predicted values, this is done in the code below. \n",
        "\n",
        "**Q** Interpret the curves, what does it tell about the performance of the model?\n",
        "\n",
        "The predicted values are about .04 higher.\n",
        "I follows th actual pretty good."
      ]
    },
    {
      "cell_type": "code",
      "metadata": {
        "colab": {
          "base_uri": "https://localhost:8080/",
          "height": 405
        },
        "id": "S2NW_nJCS0pT",
        "outputId": "1b499b16-a014-4487-a82f-99c10d6b8e37"
      },
      "source": [
        "sns.distplot(y_pred_test, hist = False, color = 'r', label = 'Predicted Values')\n",
        "sns.distplot(y_test, hist = False, color = 'b', label = 'Actual Values')\n",
        "plt.title('Actual vs Predicted Values', fontsize = 16)\n",
        "plt.xlabel('Values', fontsize = 12)\n",
        "plt.ylabel('Frequency', fontsize = 12)\n",
        "plt.legend(loc = 'upper left', fontsize = 13)"
      ],
      "execution_count": null,
      "outputs": [
        {
          "output_type": "stream",
          "text": [
            "C:\\Users\\gazel\\anaconda3\\lib\\site-packages\\seaborn\\distributions.py:2551: FutureWarning: `distplot` is a deprecated function and will be removed in a future version. Please adapt your code to use either `displot` (a figure-level function with similar flexibility) or `kdeplot` (an axes-level function for kernel density plots).\n",
            "  warnings.warn(msg, FutureWarning)\n",
            "C:\\Users\\gazel\\anaconda3\\lib\\site-packages\\seaborn\\distributions.py:2551: FutureWarning: `distplot` is a deprecated function and will be removed in a future version. Please adapt your code to use either `displot` (a figure-level function with similar flexibility) or `kdeplot` (an axes-level function for kernel density plots).\n",
            "  warnings.warn(msg, FutureWarning)\n"
          ],
          "name": "stderr"
        },
        {
          "output_type": "execute_result",
          "data": {
            "text/plain": [
              "<matplotlib.legend.Legend at 0x1dbb8727130>"
            ]
          },
          "metadata": {
            "tags": []
          },
          "execution_count": 92
        },
        {
          "output_type": "display_data",
          "data": {
            "image/png": "[encoded data removed]",
            "text/plain": [
              "<Figure size 432x288 with 1 Axes>"
            ]
          },
          "metadata": {
            "tags": [],
            "needs_background": "light"
          }
        }
      ]
    },
    {
      "cell_type": "markdown",
      "metadata": {
        "id": "VEL-B4BGmV1S"
      },
      "source": [
        ""
      ]
    },
    {
      "cell_type": "markdown",
      "metadata": {
        "id": "PrDeamQCS0pU"
      },
      "source": [
        "## Multiple linear regression"
      ]
    },
    {
      "cell_type": "markdown",
      "metadata": {
        "id": "Mxs29cGPS0pU"
      },
      "source": [
        "### Your next task in regards to modeling is to perform a multiple linear regression in order to predic the same y.\n",
        "\n",
        "**Q** What varaibles from your dataset are appropriate to add to x to have more variables as input? Why?\n",
        "\n",
        "The best variable is \"wind spd\" though against \"humidity\" it has -0.75 as value on the heatmap and against \"tempC\" it has the value 0.71 so the resulting plane will probably be leaning in a fashinating way.\n",
        "\n",
        "**C** Perform a multiple linear regression in a similar fashion as you did while performing the simple linear regression, start by assigning appropriate columns to X and y (y should be the same as in the simple linear regression).\n",
        "\n",
        "*It is preferable to use other names for your variables so as not to create confusion or overwrite variables by misstake.*\n",
        "\n",
        "**C** Evaluate your model using the same measurements as for the simple linear regression.\n",
        "\n",
        ".0013 increase in the $r^2_{score}$and this means cloaser to the optimal 1. Since mse and rmse is suppose to be close to 0 it mad things worse.  \n",
        "\n",
        "**C** Create a visualization that show the difference between real values and predicted values on testdata (see simple linear regression visualization).\n",
        "\n",
        "**Q** Why is it difficult to create a visualization that show the result on training and testdata, similar to the ones we did in the simple linear regression above?\n",
        "\n",
        "It is 3d for real, so it is like a universe and you need 3 points x, y and z to know the truth. A plane, a three dimentional line however, would just still show two axis. but a fat cylinder suronding the scatter in the right angle would make us loose detailed intormation about the plot itself.    \n",
        "\n",
        "**Q** How do the models differ? Which one is better than the other? Why?\n",
        "\n",
        "2 dim is is easier to se approx wher the data meets and i could probably do that two times instead of this 3d plot.\n",
        "\n",
        "*To answer the questions and do the required coding, please use one codeblock per question to facilitate the checking of your assignment.*"
      ]
    },
    {
      "cell_type": "code",
      "metadata": {
        "id": "L2g_nd6CmV1S",
        "outputId": "c052a2f7-8140-4940-955c-cac8bf672648"
      },
      "source": [
        "a = 'tempC'\n",
        "b = 'humidity'\n",
        "m1,xtr, xtt, ytr, ytt,yptr,yptt, th01, th11 = mutipleRegLearn(wd_df[['wspeedkmh','humidity']],wd_df[['tempC']])\n",
        "plot3dthing(xtr,ytr,yptr,'Humidity','wspeedkmh','TempC')\n",
        "print(th01)\n",
        "print(th11)"
      ],
      "execution_count": null,
      "outputs": [
        {
          "output_type": "stream",
          "text": [
            "mse 2.0360114741625406\n",
            "rmse 1.4268887392374152\n",
            "r^2 score 0.8983895617038836\n",
            "[28.87534723]\n",
            "[[  0.03968083 -24.15093255]]\n"
          ],
          "name": "stdout"
        },
        {
          "output_type": "display_data",
          "data": {
            "image/png": "[encoded data removed]",
            "text/plain": [
              "<Figure size 432x288 with 1 Axes>"
            ]
          },
          "metadata": {
            "tags": [],
            "needs_background": "light"
          }
        }
      ]
    },
    {
      "cell_type": "code",
      "metadata": {
        "id": "oinaHr9UmV1T"
      },
      "source": [
        ""
      ],
      "execution_count": null,
      "outputs": []
    },
    {
      "cell_type": "code",
      "metadata": {
        "id": "cEN2rWM1mV1T"
      },
      "source": [
        "#Visualize the difference between real values and predicted values on testdata\n"
      ],
      "execution_count": null,
      "outputs": []
    },
    {
      "cell_type": "code",
      "metadata": {
        "id": "xwWLHUW5S0pW"
      },
      "source": [
        "#Evaluate"
      ],
      "execution_count": null,
      "outputs": []
    },
    {
      "cell_type": "code",
      "metadata": {
        "id": "Z-ME6Hr5mV1T"
      },
      "source": [
        ""
      ],
      "execution_count": null,
      "outputs": []
    },
    {
      "cell_type": "code",
      "metadata": {
        "id": "LfH7CrR-mV1U"
      },
      "source": [
        ""
      ],
      "execution_count": null,
      "outputs": []
    },
    {
      "cell_type": "code",
      "metadata": {
        "id": "A2j7zkpcmV1U"
      },
      "source": [
        ""
      ],
      "execution_count": null,
      "outputs": []
    },
    {
      "cell_type": "code",
      "metadata": {
        "id": "UvDzDrsZmV1U"
      },
      "source": [
        ""
      ],
      "execution_count": null,
      "outputs": []
    },
    {
      "cell_type": "code",
      "metadata": {
        "id": "SK1QX1w5mV1U"
      },
      "source": [
        ""
      ],
      "execution_count": null,
      "outputs": []
    },
    {
      "cell_type": "code",
      "metadata": {
        "id": "jRXTucckmV1U"
      },
      "source": [
        ""
      ],
      "execution_count": null,
      "outputs": []
    }
  ]
}